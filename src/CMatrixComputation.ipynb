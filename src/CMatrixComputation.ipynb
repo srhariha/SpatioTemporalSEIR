{
 "cells": [
  {
   "cell_type": "code",
   "execution_count": 1,
   "metadata": {
    "ExecuteTime": {
     "end_time": "2020-05-07T07:58:49.254324Z",
     "start_time": "2020-05-07T07:58:47.918276Z"
    }
   },
   "outputs": [],
   "source": [
    "import numpy as np;\n",
    "import pandas as pd;\n",
    "from numpy import loadtxt\n",
    "from numpy import savetxt"
   ]
  },
  {
   "cell_type": "markdown",
   "metadata": {},
   "source": [
    "## Initialize Parameters"
   ]
  },
  {
   "cell_type": "code",
   "execution_count": 2,
   "metadata": {
    "ExecuteTime": {
     "end_time": "2020-05-07T07:58:51.903216Z",
     "start_time": "2020-05-07T07:58:51.895050Z"
    }
   },
   "outputs": [],
   "source": [
    "## Parameters and Global variables\n",
    "district = \"all\"\n"
   ]
  },
  {
   "cell_type": "markdown",
   "metadata": {},
   "source": [
    "## Load and Initialize Data"
   ]
  },
  {
   "cell_type": "code",
   "execution_count": 3,
   "metadata": {
    "ExecuteTime": {
     "end_time": "2020-05-07T07:58:55.480271Z",
     "start_time": "2020-05-07T07:58:54.546044Z"
    }
   },
   "outputs": [
    {
     "data": {
      "text/html": [
       "<div>\n",
       "<style scoped>\n",
       "    .dataframe tbody tr th:only-of-type {\n",
       "        vertical-align: middle;\n",
       "    }\n",
       "\n",
       "    .dataframe tbody tr th {\n",
       "        vertical-align: top;\n",
       "    }\n",
       "\n",
       "    .dataframe thead th {\n",
       "        text-align: right;\n",
       "    }\n",
       "</style>\n",
       "<table border=\"1\" class=\"dataframe\">\n",
       "  <thead>\n",
       "    <tr style=\"text-align: right;\">\n",
       "      <th></th>\n",
       "      <th>name</th>\n",
       "      <th>type</th>\n",
       "      <th>N</th>\n",
       "    </tr>\n",
       "  </thead>\n",
       "  <tbody>\n",
       "    <tr>\n",
       "      <th>735</th>\n",
       "      <td>Perambra__Kozhikode</td>\n",
       "      <td>P</td>\n",
       "      <td>32784</td>\n",
       "    </tr>\n",
       "    <tr>\n",
       "      <th>736</th>\n",
       "      <td>Peravoor__Kannur</td>\n",
       "      <td>P</td>\n",
       "      <td>23558</td>\n",
       "    </tr>\n",
       "    <tr>\n",
       "      <th>737</th>\n",
       "      <td>Perayam__Kollam</td>\n",
       "      <td>P</td>\n",
       "      <td>21236</td>\n",
       "    </tr>\n",
       "    <tr>\n",
       "      <th>738</th>\n",
       "      <td>Perinadu__Kollam</td>\n",
       "      <td>P</td>\n",
       "      <td>33955</td>\n",
       "    </tr>\n",
       "    <tr>\n",
       "      <th>739</th>\n",
       "      <td>Peringammala__Thiruvananthapuram</td>\n",
       "      <td>P</td>\n",
       "      <td>27667</td>\n",
       "    </tr>\n",
       "    <tr>\n",
       "      <th>740</th>\n",
       "      <td>Peringara__Pathanamthitta</td>\n",
       "      <td>P</td>\n",
       "      <td>21001</td>\n",
       "    </tr>\n",
       "    <tr>\n",
       "      <th>741</th>\n",
       "      <td>Peringom-Vayakkara__Kannur</td>\n",
       "      <td>P</td>\n",
       "      <td>29374</td>\n",
       "    </tr>\n",
       "    <tr>\n",
       "      <th>742</th>\n",
       "      <td>Peringottukurissi__Palakkad</td>\n",
       "      <td>P</td>\n",
       "      <td>25075</td>\n",
       "    </tr>\n",
       "    <tr>\n",
       "      <th>743</th>\n",
       "      <td>Perinjanam__Thrissur</td>\n",
       "      <td>P</td>\n",
       "      <td>21012</td>\n",
       "    </tr>\n",
       "    <tr>\n",
       "      <th>744</th>\n",
       "      <td>Perinthalmanna(M)__Malappuram</td>\n",
       "      <td>M</td>\n",
       "      <td>49723</td>\n",
       "    </tr>\n",
       "  </tbody>\n",
       "</table>\n",
       "</div>"
      ],
      "text/plain": [
       "                                 name type      N\n",
       "735               Perambra__Kozhikode    P  32784\n",
       "736                  Peravoor__Kannur    P  23558\n",
       "737                   Perayam__Kollam    P  21236\n",
       "738                  Perinadu__Kollam    P  33955\n",
       "739  Peringammala__Thiruvananthapuram    P  27667\n",
       "740         Peringara__Pathanamthitta    P  21001\n",
       "741        Peringom-Vayakkara__Kannur    P  29374\n",
       "742       Peringottukurissi__Palakkad    P  25075\n",
       "743              Perinjanam__Thrissur    P  21012\n",
       "744     Perinthalmanna(M)__Malappuram    M  49723"
      ]
     },
     "execution_count": 3,
     "metadata": {},
     "output_type": "execute_result"
    }
   ],
   "source": [
    "## Population data\n",
    "initDataDF = pd.read_csv(\"../data/\" + district + \"_population_data.csv\")\n",
    "\n",
    "## Number of regions\n",
    "r = len(initDataDF.index)\n",
    "\n",
    "## T-Matrix\n",
    "tMatrix = loadtxt(\"../output/\" + district + \"_tmatrix_results.csv\",delimiter=',')\n",
    "\n",
    "## Sort distance data by name for easy matrix transformation\n",
    "initDataDF.sort_values(by=['name'], inplace=True)\n",
    "initDataDF.reset_index(drop=True, inplace=True)\n",
    "\n",
    "initDataDF.tail(300).head(10)"
   ]
  },
  {
   "cell_type": "markdown",
   "metadata": {},
   "source": [
    "## Prepare T-Matrix"
   ]
  },
  {
   "cell_type": "code",
   "execution_count": 4,
   "metadata": {
    "ExecuteTime": {
     "end_time": "2020-05-07T07:58:59.402122Z",
     "start_time": "2020-05-07T07:58:59.386657Z"
    }
   },
   "outputs": [
    {
     "data": {
      "text/plain": [
       "array([ 7101.05058948, 30859.8323504 , 33051.18529276, ...,\n",
       "       10053.71460428, 28996.76118065, 17879.83318545])"
      ]
     },
     "execution_count": 4,
     "metadata": {},
     "output_type": "execute_result"
    }
   ],
   "source": [
    "tColSum = tMatrix.sum(axis=0)\n",
    "tColSum\n",
    "\n",
    "tRowSum = tMatrix.sum(axis=1)\n",
    "tRowSum\n",
    "\n",
    "tColSum\n",
    "#tMatrix[0]/initDataDF['N']\n",
    "#tMatrix[1]/tColSum[0]\n",
    "#np.multiply(tMatrix[0]/Ni,tMatrix[1]/tColSum).sum()"
   ]
  },
  {
   "cell_type": "markdown",
   "metadata": {},
   "source": [
    "## Function Definition"
   ]
  },
  {
   "cell_type": "code",
   "execution_count": 5,
   "metadata": {
    "ExecuteTime": {
     "end_time": "2020-05-07T07:59:01.293228Z",
     "start_time": "2020-05-07T07:59:01.288205Z"
    }
   },
   "outputs": [],
   "source": [
    "def getCijv3(i, j, tMatrix, Ni):\n",
    "    #print(\"[getCijv3]\", )\n",
    "    cwSum = np.multiply(tMatrix[i]/Ni,tMatrix[j]/tColSum).sum()\n",
    "    return cwSum"
   ]
  },
  {
   "cell_type": "markdown",
   "metadata": {},
   "source": [
    "## Compute C-Matrix"
   ]
  },
  {
   "cell_type": "code",
   "execution_count": 6,
   "metadata": {
    "ExecuteTime": {
     "end_time": "2020-05-07T08:04:45.363529Z",
     "start_time": "2020-05-07T07:59:04.090897Z"
    }
   },
   "outputs": [],
   "source": [
    "data = []\n",
    "for i in range(0,r):\n",
    "    Ni = initDataDF.iloc[i]['N']\n",
    "\n",
    "    for j in range(0,r):\n",
    "        #print(\"j=\", j)\n",
    "        Cij = getCijv3(i,j,tMatrix, Ni)\n",
    "        #print(\"C(\",i,\",\",j,\") \", Cij)\n",
    "        data.append({'iName': initDataDF.iloc[i]['name'], 'jName': initDataDF.iloc[j]['name'], 'Cij': Cij})\n",
    "\n",
    "resultsDF = pd.DataFrame(data);\n"
   ]
  },
  {
   "cell_type": "markdown",
   "metadata": {},
   "source": [
    "## Save Output"
   ]
  },
  {
   "cell_type": "code",
   "execution_count": 7,
   "metadata": {
    "ExecuteTime": {
     "end_time": "2020-05-07T08:04:50.434526Z",
     "start_time": "2020-05-07T08:04:50.409959Z"
    }
   },
   "outputs": [
    {
     "data": {
      "text/plain": [
       "array([15., 15., 15., ..., 15., 15., 15.])"
      ]
     },
     "execution_count": 7,
     "metadata": {},
     "output_type": "execute_result"
    }
   ],
   "source": [
    "r = len(initDataDF.index)\n",
    "C_TPart_Matrix = resultsDF['Cij'].to_numpy().reshape(r,r)\n",
    "Wn = 15*C_TPart_Matrix\n",
    "Wn\n",
    "Wn.sum(axis=1)\n"
   ]
  },
  {
   "cell_type": "code",
   "execution_count": 8,
   "metadata": {
    "ExecuteTime": {
     "end_time": "2020-05-07T08:05:00.746109Z",
     "start_time": "2020-05-07T08:04:56.012833Z"
    }
   },
   "outputs": [],
   "source": [
    "resultsDF.to_csv(\"../output/\" + district + \"_cmatrix_results.csv\")"
   ]
  },
  {
   "cell_type": "code",
   "execution_count": 9,
   "metadata": {
    "ExecuteTime": {
     "end_time": "2020-05-07T08:05:04.140314Z",
     "start_time": "2020-05-07T08:05:04.126137Z"
    }
   },
   "outputs": [
    {
     "data": {
      "text/html": [
       "<div>\n",
       "<style scoped>\n",
       "    .dataframe tbody tr th:only-of-type {\n",
       "        vertical-align: middle;\n",
       "    }\n",
       "\n",
       "    .dataframe tbody tr th {\n",
       "        vertical-align: top;\n",
       "    }\n",
       "\n",
       "    .dataframe thead th {\n",
       "        text-align: right;\n",
       "    }\n",
       "</style>\n",
       "<table border=\"1\" class=\"dataframe\">\n",
       "  <thead>\n",
       "    <tr style=\"text-align: right;\">\n",
       "      <th></th>\n",
       "      <th>iName</th>\n",
       "      <th>jName</th>\n",
       "      <th>Cij</th>\n",
       "    </tr>\n",
       "  </thead>\n",
       "  <tbody>\n",
       "    <tr>\n",
       "      <th>0</th>\n",
       "      <td>ARNagar__Malappuram</td>\n",
       "      <td>ARNagar__Malappuram</td>\n",
       "      <td>0.855832</td>\n",
       "    </tr>\n",
       "    <tr>\n",
       "      <th>1</th>\n",
       "      <td>ARNagar__Malappuram</td>\n",
       "      <td>Adat__Thrissur</td>\n",
       "      <td>0.000051</td>\n",
       "    </tr>\n",
       "    <tr>\n",
       "      <th>2</th>\n",
       "      <td>ARNagar__Malappuram</td>\n",
       "      <td>Adichanalloor__Kollam</td>\n",
       "      <td>0.000003</td>\n",
       "    </tr>\n",
       "    <tr>\n",
       "      <th>3</th>\n",
       "      <td>ARNagar__Malappuram</td>\n",
       "      <td>Adimali__Idukki</td>\n",
       "      <td>0.000011</td>\n",
       "    </tr>\n",
       "    <tr>\n",
       "      <th>4</th>\n",
       "      <td>ARNagar__Malappuram</td>\n",
       "      <td>Adoor(M)__Pathanamthitta</td>\n",
       "      <td>0.000006</td>\n",
       "    </tr>\n",
       "    <tr>\n",
       "      <th>5</th>\n",
       "      <td>ARNagar__Malappuram</td>\n",
       "      <td>Agali__Palakkad</td>\n",
       "      <td>0.000044</td>\n",
       "    </tr>\n",
       "    <tr>\n",
       "      <th>6</th>\n",
       "      <td>ARNagar__Malappuram</td>\n",
       "      <td>Aiykkaranadu__Ernakulam</td>\n",
       "      <td>0.000006</td>\n",
       "    </tr>\n",
       "    <tr>\n",
       "      <th>7</th>\n",
       "      <td>ARNagar__Malappuram</td>\n",
       "      <td>Ajanur__Kasaragod</td>\n",
       "      <td>0.000014</td>\n",
       "    </tr>\n",
       "    <tr>\n",
       "      <th>8</th>\n",
       "      <td>ARNagar__Malappuram</td>\n",
       "      <td>Akalakunnam__Kottayam</td>\n",
       "      <td>0.000003</td>\n",
       "    </tr>\n",
       "    <tr>\n",
       "      <th>9</th>\n",
       "      <td>ARNagar__Malappuram</td>\n",
       "      <td>Akathethara__Palakkad</td>\n",
       "      <td>0.000037</td>\n",
       "    </tr>\n",
       "  </tbody>\n",
       "</table>\n",
       "</div>"
      ],
      "text/plain": [
       "                 iName                     jName       Cij\n",
       "0  ARNagar__Malappuram       ARNagar__Malappuram  0.855832\n",
       "1  ARNagar__Malappuram            Adat__Thrissur  0.000051\n",
       "2  ARNagar__Malappuram     Adichanalloor__Kollam  0.000003\n",
       "3  ARNagar__Malappuram           Adimali__Idukki  0.000011\n",
       "4  ARNagar__Malappuram  Adoor(M)__Pathanamthitta  0.000006\n",
       "5  ARNagar__Malappuram           Agali__Palakkad  0.000044\n",
       "6  ARNagar__Malappuram   Aiykkaranadu__Ernakulam  0.000006\n",
       "7  ARNagar__Malappuram         Ajanur__Kasaragod  0.000014\n",
       "8  ARNagar__Malappuram     Akalakunnam__Kottayam  0.000003\n",
       "9  ARNagar__Malappuram     Akathethara__Palakkad  0.000037"
      ]
     },
     "execution_count": 9,
     "metadata": {},
     "output_type": "execute_result"
    }
   ],
   "source": [
    "resultsDF.head(10)"
   ]
  },
  {
   "cell_type": "code",
   "execution_count": null,
   "metadata": {},
   "outputs": [],
   "source": []
  }
 ],
 "metadata": {
  "kernelspec": {
   "display_name": "Python 3",
   "language": "python",
   "name": "python3"
  },
  "language_info": {
   "codemirror_mode": {
    "name": "ipython",
    "version": 3
   },
   "file_extension": ".py",
   "mimetype": "text/x-python",
   "name": "python",
   "nbconvert_exporter": "python",
   "pygments_lexer": "ipython3",
   "version": "3.7.5"
  }
 },
 "nbformat": 4,
 "nbformat_minor": 2
}
