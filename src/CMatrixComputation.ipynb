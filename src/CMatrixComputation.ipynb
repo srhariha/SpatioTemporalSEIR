{
 "cells": [
  {
   "cell_type": "code",
   "execution_count": 1,
   "metadata": {
    "ExecuteTime": {
     "end_time": "2020-04-30T06:59:55.005339Z",
     "start_time": "2020-04-30T06:59:53.622938Z"
    }
   },
   "outputs": [],
   "source": [
    "import numpy as np;\n",
    "import pandas as pd;"
   ]
  },
  {
   "cell_type": "markdown",
   "metadata": {},
   "source": [
    "## Initialize Parameters"
   ]
  },
  {
   "cell_type": "code",
   "execution_count": 2,
   "metadata": {
    "ExecuteTime": {
     "end_time": "2020-04-30T06:59:56.627045Z",
     "start_time": "2020-04-30T06:59:56.622784Z"
    }
   },
   "outputs": [],
   "source": [
    "## Parameters and Global variables\n",
    "district = \"all\"\n"
   ]
  },
  {
   "cell_type": "markdown",
   "metadata": {},
   "source": [
    "## Load and Initialize Data"
   ]
  },
  {
   "cell_type": "code",
   "execution_count": 3,
   "metadata": {
    "ExecuteTime": {
     "end_time": "2020-04-30T07:00:00.932547Z",
     "start_time": "2020-04-30T07:00:00.061137Z"
    }
   },
   "outputs": [
    {
     "data": {
      "text/html": [
       "<div>\n",
       "<style scoped>\n",
       "    .dataframe tbody tr th:only-of-type {\n",
       "        vertical-align: middle;\n",
       "    }\n",
       "\n",
       "    .dataframe tbody tr th {\n",
       "        vertical-align: top;\n",
       "    }\n",
       "\n",
       "    .dataframe thead th {\n",
       "        text-align: right;\n",
       "    }\n",
       "</style>\n",
       "<table border=\"1\" class=\"dataframe\">\n",
       "  <thead>\n",
       "    <tr style=\"text-align: right;\">\n",
       "      <th></th>\n",
       "      <th>name</th>\n",
       "      <th>type</th>\n",
       "      <th>N</th>\n",
       "    </tr>\n",
       "  </thead>\n",
       "  <tbody>\n",
       "    <tr>\n",
       "      <th>735</th>\n",
       "      <td>Perambra__Kozhikode</td>\n",
       "      <td>P</td>\n",
       "      <td>32784</td>\n",
       "    </tr>\n",
       "    <tr>\n",
       "      <th>736</th>\n",
       "      <td>Peravoor__Kannur</td>\n",
       "      <td>P</td>\n",
       "      <td>23558</td>\n",
       "    </tr>\n",
       "    <tr>\n",
       "      <th>737</th>\n",
       "      <td>Perayam__Kollam</td>\n",
       "      <td>P</td>\n",
       "      <td>21236</td>\n",
       "    </tr>\n",
       "    <tr>\n",
       "      <th>738</th>\n",
       "      <td>Perinadu__Kollam</td>\n",
       "      <td>P</td>\n",
       "      <td>33955</td>\n",
       "    </tr>\n",
       "    <tr>\n",
       "      <th>739</th>\n",
       "      <td>Peringammala__Thiruvananthapuram</td>\n",
       "      <td>P</td>\n",
       "      <td>27667</td>\n",
       "    </tr>\n",
       "    <tr>\n",
       "      <th>740</th>\n",
       "      <td>Peringara__Pathanamthitta</td>\n",
       "      <td>P</td>\n",
       "      <td>21001</td>\n",
       "    </tr>\n",
       "    <tr>\n",
       "      <th>741</th>\n",
       "      <td>Peringom-Vayakkara__Kannur</td>\n",
       "      <td>P</td>\n",
       "      <td>29374</td>\n",
       "    </tr>\n",
       "    <tr>\n",
       "      <th>742</th>\n",
       "      <td>Peringottukurissi__Palakkad</td>\n",
       "      <td>P</td>\n",
       "      <td>25075</td>\n",
       "    </tr>\n",
       "    <tr>\n",
       "      <th>743</th>\n",
       "      <td>Perinjanam__Thrissur</td>\n",
       "      <td>P</td>\n",
       "      <td>21012</td>\n",
       "    </tr>\n",
       "    <tr>\n",
       "      <th>744</th>\n",
       "      <td>Perinthalmanna(M)__Malappuram</td>\n",
       "      <td>M</td>\n",
       "      <td>49723</td>\n",
       "    </tr>\n",
       "    <tr>\n",
       "      <th>745</th>\n",
       "      <td>Perumanna__Kozhikode</td>\n",
       "      <td>P</td>\n",
       "      <td>35460</td>\n",
       "    </tr>\n",
       "    <tr>\n",
       "      <th>746</th>\n",
       "      <td>Perumannaklari__Malappuram</td>\n",
       "      <td>P</td>\n",
       "      <td>4939</td>\n",
       "    </tr>\n",
       "    <tr>\n",
       "      <th>747</th>\n",
       "      <td>Perumatti__Palakkad</td>\n",
       "      <td>P</td>\n",
       "      <td>30445</td>\n",
       "    </tr>\n",
       "    <tr>\n",
       "      <th>748</th>\n",
       "      <td>Perumbavoor(M)__Ernakulam</td>\n",
       "      <td>M</td>\n",
       "      <td>28110</td>\n",
       "    </tr>\n",
       "    <tr>\n",
       "      <th>749</th>\n",
       "      <td>Perumkadavila__Thiruvananthapuram</td>\n",
       "      <td>P</td>\n",
       "      <td>23385</td>\n",
       "    </tr>\n",
       "    <tr>\n",
       "      <th>750</th>\n",
       "      <td>Perumpadappu__Malappuram</td>\n",
       "      <td>P</td>\n",
       "      <td>5876</td>\n",
       "    </tr>\n",
       "    <tr>\n",
       "      <th>751</th>\n",
       "      <td>Perumpalam__Alappuzha</td>\n",
       "      <td>P</td>\n",
       "      <td>9733</td>\n",
       "    </tr>\n",
       "    <tr>\n",
       "      <th>752</th>\n",
       "      <td>Peruvalloor__Malappuram</td>\n",
       "      <td>P</td>\n",
       "      <td>6411</td>\n",
       "    </tr>\n",
       "    <tr>\n",
       "      <th>753</th>\n",
       "      <td>Peruvanthanam__Idukki</td>\n",
       "      <td>P</td>\n",
       "      <td>15626</td>\n",
       "    </tr>\n",
       "    <tr>\n",
       "      <th>754</th>\n",
       "      <td>Peruvayal__Kozhikode</td>\n",
       "      <td>P</td>\n",
       "      <td>47700</td>\n",
       "    </tr>\n",
       "    <tr>\n",
       "      <th>755</th>\n",
       "      <td>Peruvembu__Palakkad</td>\n",
       "      <td>P</td>\n",
       "      <td>19312</td>\n",
       "    </tr>\n",
       "    <tr>\n",
       "      <th>756</th>\n",
       "      <td>Pilicode__Kasaragod</td>\n",
       "      <td>P</td>\n",
       "      <td>25122</td>\n",
       "    </tr>\n",
       "    <tr>\n",
       "      <th>757</th>\n",
       "      <td>Pinarayi__Kannur</td>\n",
       "      <td>P</td>\n",
       "      <td>33706</td>\n",
       "    </tr>\n",
       "    <tr>\n",
       "      <th>758</th>\n",
       "      <td>Pindimana__Ernakulam</td>\n",
       "      <td>P</td>\n",
       "      <td>16519</td>\n",
       "    </tr>\n",
       "    <tr>\n",
       "      <th>759</th>\n",
       "      <td>Piravanthoor__Kollam</td>\n",
       "      <td>P</td>\n",
       "      <td>33914</td>\n",
       "    </tr>\n",
       "    <tr>\n",
       "      <th>760</th>\n",
       "      <td>Piravom(M)__Ernakulam</td>\n",
       "      <td>M</td>\n",
       "      <td>27229</td>\n",
       "    </tr>\n",
       "    <tr>\n",
       "      <th>761</th>\n",
       "      <td>Pirayiri__Palakkad</td>\n",
       "      <td>P</td>\n",
       "      <td>41359</td>\n",
       "    </tr>\n",
       "    <tr>\n",
       "      <th>762</th>\n",
       "      <td>Polpulli__Palakkad</td>\n",
       "      <td>P</td>\n",
       "      <td>16500</td>\n",
       "    </tr>\n",
       "    <tr>\n",
       "      <th>763</th>\n",
       "      <td>Ponmala__Malappuram</td>\n",
       "      <td>P</td>\n",
       "      <td>6237</td>\n",
       "    </tr>\n",
       "    <tr>\n",
       "      <th>764</th>\n",
       "      <td>Ponmundam__Malappuram</td>\n",
       "      <td>P</td>\n",
       "      <td>4625</td>\n",
       "    </tr>\n",
       "    <tr>\n",
       "      <th>765</th>\n",
       "      <td>Ponnani(M)__Malappuram</td>\n",
       "      <td>M</td>\n",
       "      <td>90491</td>\n",
       "    </tr>\n",
       "    <tr>\n",
       "      <th>766</th>\n",
       "      <td>Pookkottukavu__Palakkad</td>\n",
       "      <td>P</td>\n",
       "      <td>14427</td>\n",
       "    </tr>\n",
       "    <tr>\n",
       "      <th>767</th>\n",
       "      <td>Pookkottur__Malappuram</td>\n",
       "      <td>P</td>\n",
       "      <td>7032</td>\n",
       "    </tr>\n",
       "    <tr>\n",
       "      <th>768</th>\n",
       "      <td>Poomangalam__Thrissur</td>\n",
       "      <td>P</td>\n",
       "      <td>12541</td>\n",
       "    </tr>\n",
       "    <tr>\n",
       "      <th>769</th>\n",
       "      <td>Poonjar Thekkekara__Kottayam</td>\n",
       "      <td>P</td>\n",
       "      <td>17588</td>\n",
       "    </tr>\n",
       "    <tr>\n",
       "      <th>770</th>\n",
       "      <td>Poonjar__Kottayam</td>\n",
       "      <td>P</td>\n",
       "      <td>12649</td>\n",
       "    </tr>\n",
       "    <tr>\n",
       "      <th>771</th>\n",
       "      <td>Poothadi__Wayanad</td>\n",
       "      <td>P</td>\n",
       "      <td>9800</td>\n",
       "    </tr>\n",
       "    <tr>\n",
       "      <th>772</th>\n",
       "      <td>Poothakulam__Kollam</td>\n",
       "      <td>P</td>\n",
       "      <td>29453</td>\n",
       "    </tr>\n",
       "    <tr>\n",
       "      <th>773</th>\n",
       "      <td>Poothrika__Ernakulam</td>\n",
       "      <td>P</td>\n",
       "      <td>21053</td>\n",
       "    </tr>\n",
       "    <tr>\n",
       "      <th>774</th>\n",
       "      <td>Poovachal__Thiruvananthapuram</td>\n",
       "      <td>P</td>\n",
       "      <td>43610</td>\n",
       "    </tr>\n",
       "    <tr>\n",
       "      <th>775</th>\n",
       "      <td>Poovar__Thiruvananthapuram</td>\n",
       "      <td>P</td>\n",
       "      <td>19628</td>\n",
       "    </tr>\n",
       "    <tr>\n",
       "      <th>776</th>\n",
       "      <td>Pooyappalli__Kollam</td>\n",
       "      <td>P</td>\n",
       "      <td>24447</td>\n",
       "    </tr>\n",
       "    <tr>\n",
       "      <th>777</th>\n",
       "      <td>Porkkulam__Thrissur</td>\n",
       "      <td>P</td>\n",
       "      <td>16339</td>\n",
       "    </tr>\n",
       "    <tr>\n",
       "      <th>778</th>\n",
       "      <td>Poroor__Malappuram</td>\n",
       "      <td>P</td>\n",
       "      <td>5907</td>\n",
       "    </tr>\n",
       "    <tr>\n",
       "      <th>779</th>\n",
       "      <td>Poruvazhy__Kollam</td>\n",
       "      <td>P</td>\n",
       "      <td>28722</td>\n",
       "    </tr>\n",
       "    <tr>\n",
       "      <th>780</th>\n",
       "      <td>Pothanikkad__Ernakulam</td>\n",
       "      <td>P</td>\n",
       "      <td>10221</td>\n",
       "    </tr>\n",
       "    <tr>\n",
       "      <th>781</th>\n",
       "      <td>Pothencodu__Thiruvananthapuram</td>\n",
       "      <td>P</td>\n",
       "      <td>29370</td>\n",
       "    </tr>\n",
       "    <tr>\n",
       "      <th>782</th>\n",
       "      <td>Pothukallu__Malappuram</td>\n",
       "      <td>P</td>\n",
       "      <td>6072</td>\n",
       "    </tr>\n",
       "    <tr>\n",
       "      <th>783</th>\n",
       "      <td>Poyya__Thrissur</td>\n",
       "      <td>P</td>\n",
       "      <td>22490</td>\n",
       "    </tr>\n",
       "    <tr>\n",
       "      <th>784</th>\n",
       "      <td>Pozhuthana__Wayanad</td>\n",
       "      <td>P</td>\n",
       "      <td>4256</td>\n",
       "    </tr>\n",
       "  </tbody>\n",
       "</table>\n",
       "</div>"
      ],
      "text/plain": [
       "                                  name type      N\n",
       "735                Perambra__Kozhikode    P  32784\n",
       "736                   Peravoor__Kannur    P  23558\n",
       "737                    Perayam__Kollam    P  21236\n",
       "738                   Perinadu__Kollam    P  33955\n",
       "739   Peringammala__Thiruvananthapuram    P  27667\n",
       "740          Peringara__Pathanamthitta    P  21001\n",
       "741         Peringom-Vayakkara__Kannur    P  29374\n",
       "742        Peringottukurissi__Palakkad    P  25075\n",
       "743               Perinjanam__Thrissur    P  21012\n",
       "744      Perinthalmanna(M)__Malappuram    M  49723\n",
       "745               Perumanna__Kozhikode    P  35460\n",
       "746         Perumannaklari__Malappuram    P   4939\n",
       "747                Perumatti__Palakkad    P  30445\n",
       "748          Perumbavoor(M)__Ernakulam    M  28110\n",
       "749  Perumkadavila__Thiruvananthapuram    P  23385\n",
       "750           Perumpadappu__Malappuram    P   5876\n",
       "751              Perumpalam__Alappuzha    P   9733\n",
       "752            Peruvalloor__Malappuram    P   6411\n",
       "753              Peruvanthanam__Idukki    P  15626\n",
       "754               Peruvayal__Kozhikode    P  47700\n",
       "755                Peruvembu__Palakkad    P  19312\n",
       "756                Pilicode__Kasaragod    P  25122\n",
       "757                   Pinarayi__Kannur    P  33706\n",
       "758               Pindimana__Ernakulam    P  16519\n",
       "759               Piravanthoor__Kollam    P  33914\n",
       "760              Piravom(M)__Ernakulam    M  27229\n",
       "761                 Pirayiri__Palakkad    P  41359\n",
       "762                 Polpulli__Palakkad    P  16500\n",
       "763                Ponmala__Malappuram    P   6237\n",
       "764              Ponmundam__Malappuram    P   4625\n",
       "765             Ponnani(M)__Malappuram    M  90491\n",
       "766            Pookkottukavu__Palakkad    P  14427\n",
       "767             Pookkottur__Malappuram    P   7032\n",
       "768              Poomangalam__Thrissur    P  12541\n",
       "769       Poonjar Thekkekara__Kottayam    P  17588\n",
       "770                  Poonjar__Kottayam    P  12649\n",
       "771                  Poothadi__Wayanad    P   9800\n",
       "772                Poothakulam__Kollam    P  29453\n",
       "773               Poothrika__Ernakulam    P  21053\n",
       "774      Poovachal__Thiruvananthapuram    P  43610\n",
       "775         Poovar__Thiruvananthapuram    P  19628\n",
       "776                Pooyappalli__Kollam    P  24447\n",
       "777                Porkkulam__Thrissur    P  16339\n",
       "778                 Poroor__Malappuram    P   5907\n",
       "779                  Poruvazhy__Kollam    P  28722\n",
       "780             Pothanikkad__Ernakulam    P  10221\n",
       "781     Pothencodu__Thiruvananthapuram    P  29370\n",
       "782             Pothukallu__Malappuram    P   6072\n",
       "783                    Poyya__Thrissur    P  22490\n",
       "784                Pozhuthana__Wayanad    P   4256"
      ]
     },
     "execution_count": 3,
     "metadata": {},
     "output_type": "execute_result"
    }
   ],
   "source": [
    "## Population data\n",
    "initDataDF = pd.read_csv(\"../data/\" + district + \"_population_data.csv\")\n",
    "\n",
    "## Number of regions\n",
    "r = len(initDataDF.index)\n",
    "\n",
    "## T-Matrix\n",
    "tData = pd.read_csv(\"../output/\" + district + \"_tmatrix_results.csv\")\n",
    "\n",
    "## Sort distance data by name for easy matrix transformation\n",
    "initDataDF.sort_values(by=['name'], inplace=True)\n",
    "initDataDF.reset_index(drop=True, inplace=True)\n",
    "\n",
    "initDataDF.tail(300).head(50)"
   ]
  },
  {
   "cell_type": "markdown",
   "metadata": {},
   "source": [
    "## Prepare T-Matrix"
   ]
  },
  {
   "cell_type": "code",
   "execution_count": 4,
   "metadata": {
    "ExecuteTime": {
     "end_time": "2020-04-30T07:00:05.894043Z",
     "start_time": "2020-04-30T07:00:05.882336Z"
    }
   },
   "outputs": [
    {
     "data": {
      "text/plain": [
       "array([ 7338., 31973., 33638., ..., 10239., 29316., 18176.])"
      ]
     },
     "execution_count": 4,
     "metadata": {},
     "output_type": "execute_result"
    }
   ],
   "source": [
    "\n",
    "tMatrix = tData['Tij'].to_numpy().reshape(r,r)\n",
    "#tMatrix[736,746]\n",
    "tMatrix.sum(axis=1)\n"
   ]
  },
  {
   "cell_type": "code",
   "execution_count": 6,
   "metadata": {
    "ExecuteTime": {
     "end_time": "2020-04-30T07:01:07.763197Z",
     "start_time": "2020-04-30T07:01:07.749945Z"
    }
   },
   "outputs": [
    {
     "data": {
      "text/plain": [
       "array([ 7116.24049744, 30962.63356938, 33086.67590358, ...,\n",
       "       10060.05741336, 29005.93542084, 17897.37937073])"
      ]
     },
     "execution_count": 6,
     "metadata": {},
     "output_type": "execute_result"
    }
   ],
   "source": [
    "tColSum = tMatrix.sum(axis=0)\n",
    "tColSum\n",
    "\n",
    "tRowSum = tMatrix.sum(axis=1)\n",
    "tRowSum\n",
    "\n",
    "tColSum\n",
    "#tMatrix[0]/initDataDF['N']\n",
    "#tMatrix[1]/tColSum[0]\n",
    "#np.multiply(tMatrix[0]/Ni,tMatrix[1]/tColSum).sum()"
   ]
  },
  {
   "cell_type": "markdown",
   "metadata": {},
   "source": [
    "## Function Definition"
   ]
  },
  {
   "cell_type": "code",
   "execution_count": 7,
   "metadata": {
    "ExecuteTime": {
     "end_time": "2020-04-30T07:01:09.180445Z",
     "start_time": "2020-04-30T07:01:09.174453Z"
    }
   },
   "outputs": [],
   "source": [
    "def getCijv3(i, j, tMatrix, Ni):\n",
    "    #print(\"[getCijv3]\", )\n",
    "    cwSum = np.multiply(tMatrix[i]/Ni,tMatrix[j]/tColSum).sum()\n",
    "    return cwSum"
   ]
  },
  {
   "cell_type": "markdown",
   "metadata": {},
   "source": [
    "## Compute C-Matrix"
   ]
  },
  {
   "cell_type": "code",
   "execution_count": 8,
   "metadata": {
    "ExecuteTime": {
     "end_time": "2020-04-30T07:07:12.022297Z",
     "start_time": "2020-04-30T07:01:11.793937Z"
    }
   },
   "outputs": [],
   "source": [
    "data = []\n",
    "for i in range(0,r):\n",
    "    #print(\"i=\", i)\n",
    "    Ni = initDataDF.iloc[i]['N']\n",
    "    #print(\"Ni=\", Ni)\n",
    "\n",
    "    for j in range(0,r):\n",
    "        #print(\"j=\", j)\n",
    "        Cij = getCijv3(i,j,tMatrix, Ni)\n",
    "        #print(\"C(\",i,\",\",j,\") \", Cij)\n",
    "        data.append({'iName': initDataDF.iloc[i]['name'], 'jName': initDataDF.iloc[j]['name'], 'Cij': Cij})\n",
    "\n",
    "resultsDF = pd.DataFrame(data);\n"
   ]
  },
  {
   "cell_type": "markdown",
   "metadata": {},
   "source": [
    "## Save Output"
   ]
  },
  {
   "cell_type": "code",
   "execution_count": 9,
   "metadata": {
    "ExecuteTime": {
     "end_time": "2020-04-30T07:07:37.652910Z",
     "start_time": "2020-04-30T07:07:37.615020Z"
    }
   },
   "outputs": [
    {
     "data": {
      "text/plain": [
       "array([15., 15., 15., ..., 15., 15., 15.])"
      ]
     },
     "execution_count": 9,
     "metadata": {},
     "output_type": "execute_result"
    }
   ],
   "source": [
    "r = len(initDataDF.index)\n",
    "C_TPart_Matrix = resultsDF['Cij'].to_numpy().reshape(r,r)\n",
    "Wn = 15*C_TPart_Matrix\n",
    "Wn\n",
    "Wn.sum(axis=1)\n"
   ]
  },
  {
   "cell_type": "code",
   "execution_count": 10,
   "metadata": {
    "ExecuteTime": {
     "end_time": "2020-04-30T07:07:55.987686Z",
     "start_time": "2020-04-30T07:07:51.109804Z"
    }
   },
   "outputs": [],
   "source": [
    "resultsDF.to_csv(\"../output/\" + district + \"_cmatrix_results.csv\")"
   ]
  },
  {
   "cell_type": "code",
   "execution_count": 11,
   "metadata": {
    "ExecuteTime": {
     "end_time": "2020-04-30T07:07:59.491618Z",
     "start_time": "2020-04-30T07:07:59.480975Z"
    }
   },
   "outputs": [
    {
     "data": {
      "text/html": [
       "<div>\n",
       "<style scoped>\n",
       "    .dataframe tbody tr th:only-of-type {\n",
       "        vertical-align: middle;\n",
       "    }\n",
       "\n",
       "    .dataframe tbody tr th {\n",
       "        vertical-align: top;\n",
       "    }\n",
       "\n",
       "    .dataframe thead th {\n",
       "        text-align: right;\n",
       "    }\n",
       "</style>\n",
       "<table border=\"1\" class=\"dataframe\">\n",
       "  <thead>\n",
       "    <tr style=\"text-align: right;\">\n",
       "      <th></th>\n",
       "      <th>iName</th>\n",
       "      <th>jName</th>\n",
       "      <th>Cij</th>\n",
       "    </tr>\n",
       "  </thead>\n",
       "  <tbody>\n",
       "    <tr>\n",
       "      <th>0</th>\n",
       "      <td>ARNagar__Malappuram</td>\n",
       "      <td>ARNagar__Malappuram</td>\n",
       "      <td>0.854012</td>\n",
       "    </tr>\n",
       "    <tr>\n",
       "      <th>1</th>\n",
       "      <td>ARNagar__Malappuram</td>\n",
       "      <td>Adat__Thrissur</td>\n",
       "      <td>0.000053</td>\n",
       "    </tr>\n",
       "    <tr>\n",
       "      <th>2</th>\n",
       "      <td>ARNagar__Malappuram</td>\n",
       "      <td>Adichanalloor__Kollam</td>\n",
       "      <td>0.000003</td>\n",
       "    </tr>\n",
       "    <tr>\n",
       "      <th>3</th>\n",
       "      <td>ARNagar__Malappuram</td>\n",
       "      <td>Adimali__Idukki</td>\n",
       "      <td>0.000012</td>\n",
       "    </tr>\n",
       "    <tr>\n",
       "      <th>4</th>\n",
       "      <td>ARNagar__Malappuram</td>\n",
       "      <td>Adoor(M)__Pathanamthitta</td>\n",
       "      <td>0.000006</td>\n",
       "    </tr>\n",
       "    <tr>\n",
       "      <th>5</th>\n",
       "      <td>ARNagar__Malappuram</td>\n",
       "      <td>Agali__Palakkad</td>\n",
       "      <td>0.000046</td>\n",
       "    </tr>\n",
       "    <tr>\n",
       "      <th>6</th>\n",
       "      <td>ARNagar__Malappuram</td>\n",
       "      <td>Aiykkaranadu__Ernakulam</td>\n",
       "      <td>0.000007</td>\n",
       "    </tr>\n",
       "    <tr>\n",
       "      <th>7</th>\n",
       "      <td>ARNagar__Malappuram</td>\n",
       "      <td>Ajanur__Kasaragod</td>\n",
       "      <td>0.000014</td>\n",
       "    </tr>\n",
       "    <tr>\n",
       "      <th>8</th>\n",
       "      <td>ARNagar__Malappuram</td>\n",
       "      <td>Akalakunnam__Kottayam</td>\n",
       "      <td>0.000004</td>\n",
       "    </tr>\n",
       "    <tr>\n",
       "      <th>9</th>\n",
       "      <td>ARNagar__Malappuram</td>\n",
       "      <td>Akathethara__Palakkad</td>\n",
       "      <td>0.000038</td>\n",
       "    </tr>\n",
       "  </tbody>\n",
       "</table>\n",
       "</div>"
      ],
      "text/plain": [
       "                 iName                     jName       Cij\n",
       "0  ARNagar__Malappuram       ARNagar__Malappuram  0.854012\n",
       "1  ARNagar__Malappuram            Adat__Thrissur  0.000053\n",
       "2  ARNagar__Malappuram     Adichanalloor__Kollam  0.000003\n",
       "3  ARNagar__Malappuram           Adimali__Idukki  0.000012\n",
       "4  ARNagar__Malappuram  Adoor(M)__Pathanamthitta  0.000006\n",
       "5  ARNagar__Malappuram           Agali__Palakkad  0.000046\n",
       "6  ARNagar__Malappuram   Aiykkaranadu__Ernakulam  0.000007\n",
       "7  ARNagar__Malappuram         Ajanur__Kasaragod  0.000014\n",
       "8  ARNagar__Malappuram     Akalakunnam__Kottayam  0.000004\n",
       "9  ARNagar__Malappuram     Akathethara__Palakkad  0.000038"
      ]
     },
     "execution_count": 11,
     "metadata": {},
     "output_type": "execute_result"
    }
   ],
   "source": [
    "resultsDF.head(10)"
   ]
  },
  {
   "cell_type": "code",
   "execution_count": null,
   "metadata": {},
   "outputs": [],
   "source": []
  }
 ],
 "metadata": {
  "kernelspec": {
   "display_name": "Python 3",
   "language": "python",
   "name": "python3"
  },
  "language_info": {
   "codemirror_mode": {
    "name": "ipython",
    "version": 3
   },
   "file_extension": ".py",
   "mimetype": "text/x-python",
   "name": "python",
   "nbconvert_exporter": "python",
   "pygments_lexer": "ipython3",
   "version": "3.7.5"
  }
 },
 "nbformat": 4,
 "nbformat_minor": 2
}
