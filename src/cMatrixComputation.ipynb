{
 "cells": [
  {
   "cell_type": "code",
   "execution_count": 1,
   "metadata": {},
   "outputs": [],
   "source": [
    "import numpy as np;\n",
    "import pandas as pd;"
   ]
  },
  {
   "cell_type": "code",
   "execution_count": 2,
   "metadata": {},
   "outputs": [],
   "source": [
    "ROOT_DIR = \"../\"\n",
    "mu = 0.01"
   ]
  },
  {
   "cell_type": "markdown",
   "metadata": {},
   "source": [
    "```\n",
    "                P1\n",
    "               /. \\\n",
    "     ----------    -------\n",
    "     |                   |\n",
    "     10                 10\n",
    "     |                   |\n",
    "     P1.1 ---- 10 ----- P1.2           \n",
    "     / \\                / \\\n",
    "    10  10            10  10 \n",
    "   /      \\          /      \\\n",
    "  P1.1.1  P1.1.2  P1.2.1.  P1.2.2 \n",
    "```"
   ]
  },
  {
   "cell_type": "code",
   "execution_count": 3,
   "metadata": {},
   "outputs": [],
   "source": [
    "initDataDF = pd.read_csv(ROOT_DIR + \"/data/sample_init_data.csv\")\n",
    "\n",
    "distanceData = pd.read_csv(ROOT_DIR + \"/data/sample_distance_matrix.csv\")\n",
    "\n",
    "r = len(initDataDF.index)"
   ]
  },
  {
   "cell_type": "code",
   "execution_count": 4,
   "metadata": {},
   "outputs": [
    {
     "data": {
      "text/plain": [
       "array([[ 0, 10, 10, 20, 20, 20, 20],\n",
       "       [10,  0, 10, 10, 10, 20, 20],\n",
       "       [10, 10,  0, 20, 20, 10, 10],\n",
       "       [20, 10, 20,  0, 20, 30, 30],\n",
       "       [20, 10, 20, 20,  0, 30, 30],\n",
       "       [20, 20, 10, 30, 30,  0, 20],\n",
       "       [20, 20, 10, 30, 30, 20,  0]])"
      ]
     },
     "execution_count": 4,
     "metadata": {},
     "output_type": "execute_result"
    }
   ],
   "source": [
    "distanceMatrix = distanceData['value'].to_numpy().reshape(r,r)\n",
    "distanceMatrix"
   ]
  },
  {
   "cell_type": "code",
   "execution_count": 10,
   "metadata": {},
   "outputs": [],
   "source": [
    "def getSij(i, j, distanceMatrix, initDataDF):\n",
    "    return(initDataDF[distanceMatrix[i] <= distanceMatrix[j]]['S'].sum())"
   ]
  },
  {
   "cell_type": "code",
   "execution_count": 6,
   "metadata": {},
   "outputs": [
    {
     "data": {
      "text/plain": [
       "7500"
      ]
     },
     "execution_count": 6,
     "metadata": {},
     "output_type": "execute_result"
    }
   ],
   "source": [
    "getSij(3,1,distanceMatrix, initDataDF)"
   ]
  },
  {
   "cell_type": "markdown",
   "metadata": {},
   "source": [
    "I'm not sure about the getSij function. It looks like you are taking all the regions which are closer to i than j. What we need is all the regions closer to i than d(i,j). Think of a circle centered at Ri of radius d(R1,R2) and include all the regions in that circle. "
   ]
  },
  {
   "cell_type": "code",
   "execution_count": 7,
   "metadata": {},
   "outputs": [],
   "source": [
    "def getTij(i,j, distanceMatrix, initDataDF):\n",
    "    Ni = initDataDF.iloc[i]['S']\n",
    "    Ti = mu*Ni\n",
    "    if(i==j):\n",
    "        return Ni - Ti;\n",
    "    \n",
    "    Nj = initDataDF.iloc[j]['S']\n",
    "    Sij = getSij(i,j,distanceMatrix, initDataDF)\n",
    "    Tij = Ti * ((Ni * Nj) /((Ni + Sij)*(Ni + Nj + Sij)))\n",
    "    return Tij\n",
    "    \n",
    "    "
   ]
  },
  {
   "cell_type": "code",
   "execution_count": 8,
   "metadata": {},
   "outputs": [],
   "source": [
    "resultsDF = pd.DataFrame(columns=['iName', 'jName', 'Tij'], );\n",
    "for i in range(0,r-1):\n",
    "    for j in range(0,r-1):\n",
    "        Tij = getTij(i,j,distanceMatrix, initDataDF)\n",
    "        resultsDF = resultsDF.append({'iName': initDataDF.iloc[i]['name'], 'jName': initDataDF.iloc[j]['name'], 'Tij': Tij},ignore_index=True)\n",
    " "
   ]
  },
  {
   "cell_type": "code",
   "execution_count": 9,
   "metadata": {},
   "outputs": [],
   "source": [
    "resultsDF.to_csv(ROOT_DIR + \"/output/tmatrix_results.csv\")"
   ]
  },
  {
   "cell_type": "code",
   "execution_count": null,
   "metadata": {},
   "outputs": [],
   "source": []
  }
 ],
 "metadata": {
  "kernelspec": {
   "display_name": "Python 3",
   "language": "python",
   "name": "python3"
  },
  "language_info": {
   "codemirror_mode": {
    "name": "ipython",
    "version": 3
   },
   "file_extension": ".py",
   "mimetype": "text/x-python",
   "name": "python",
   "nbconvert_exporter": "python",
   "pygments_lexer": "ipython3",
   "version": "3.8.2"
  }
 },
 "nbformat": 4,
 "nbformat_minor": 4
}
