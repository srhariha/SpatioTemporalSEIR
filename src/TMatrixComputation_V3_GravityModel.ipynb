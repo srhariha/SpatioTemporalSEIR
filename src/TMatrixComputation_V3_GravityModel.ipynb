{
 "cells": [
  {
   "cell_type": "code",
   "execution_count": null,
   "metadata": {
    "ExecuteTime": {
     "end_time": "2020-04-30T06:53:31.017555Z",
     "start_time": "2020-04-30T06:53:29.486115Z"
    }
   },
   "outputs": [],
   "source": [
    "import numpy as np;\n",
    "import pandas as pd;\n"
   ]
  },
  {
   "cell_type": "markdown",
   "metadata": {},
   "source": [
    "## Initialize Parameters"
   ]
  },
  {
   "cell_type": "code",
   "execution_count": 2,
   "metadata": {
    "ExecuteTime": {
     "end_time": "2020-04-30T06:53:31.206706Z",
     "start_time": "2020-04-30T06:53:31.202881Z"
    }
   },
   "outputs": [],
   "source": [
    "## parameters and global variables\n",
    "\n",
    "district = \"all\"\n",
    "\n",
    "zetaPanchayat = 0.1\n",
    "zetaMunicipality = 0.2\n",
    "zetaCorporation = 0.3\n",
    "\n",
    "\n",
    "muForSmall = 0.09\n",
    "muForMedium = 0.04\n",
    "muForLarge = 0.02\n",
    "\n"
   ]
  },
  {
   "cell_type": "markdown",
   "metadata": {},
   "source": [
    "## Load and Initialize Data"
   ]
  },
  {
   "cell_type": "code",
   "execution_count": 3,
   "metadata": {
    "ExecuteTime": {
     "end_time": "2020-04-30T06:53:34.988538Z",
     "start_time": "2020-04-30T06:53:33.578294Z"
    }
   },
   "outputs": [
    {
     "data": {
      "text/html": [
       "<div>\n",
       "<style scoped>\n",
       "    .dataframe tbody tr th:only-of-type {\n",
       "        vertical-align: middle;\n",
       "    }\n",
       "\n",
       "    .dataframe tbody tr th {\n",
       "        vertical-align: top;\n",
       "    }\n",
       "\n",
       "    .dataframe thead th {\n",
       "        text-align: right;\n",
       "    }\n",
       "</style>\n",
       "<table border=\"1\" class=\"dataframe\">\n",
       "  <thead>\n",
       "    <tr style=\"text-align: right;\">\n",
       "      <th></th>\n",
       "      <th>name</th>\n",
       "      <th>type</th>\n",
       "      <th>N</th>\n",
       "      <th>J</th>\n",
       "      <th>T</th>\n",
       "    </tr>\n",
       "  </thead>\n",
       "  <tbody>\n",
       "    <tr>\n",
       "      <th>1020</th>\n",
       "      <td>Vettikkavala__Kollam</td>\n",
       "      <td>P</td>\n",
       "      <td>36204</td>\n",
       "      <td>3620.4</td>\n",
       "      <td>1448.16</td>\n",
       "    </tr>\n",
       "    <tr>\n",
       "      <th>1021</th>\n",
       "      <td>Vettom__Malappuram</td>\n",
       "      <td>P</td>\n",
       "      <td>6577</td>\n",
       "      <td>657.7</td>\n",
       "      <td>591.93</td>\n",
       "    </tr>\n",
       "    <tr>\n",
       "      <th>1022</th>\n",
       "      <td>Vettoor__Thiruvananthapuram</td>\n",
       "      <td>P</td>\n",
       "      <td>18704</td>\n",
       "      <td>1870.4</td>\n",
       "      <td>1683.36</td>\n",
       "    </tr>\n",
       "    <tr>\n",
       "      <th>1023</th>\n",
       "      <td>Vijayapuram__Kottayam</td>\n",
       "      <td>P</td>\n",
       "      <td>30838</td>\n",
       "      <td>3083.8</td>\n",
       "      <td>2775.42</td>\n",
       "    </tr>\n",
       "    <tr>\n",
       "      <th>1024</th>\n",
       "      <td>Vilakudi__Kollam</td>\n",
       "      <td>P</td>\n",
       "      <td>32995</td>\n",
       "      <td>3299.5</td>\n",
       "      <td>2969.55</td>\n",
       "    </tr>\n",
       "    <tr>\n",
       "      <th>1025</th>\n",
       "      <td>Vilappil__Thiruvananthapuram</td>\n",
       "      <td>P</td>\n",
       "      <td>36212</td>\n",
       "      <td>3621.2</td>\n",
       "      <td>3259.08</td>\n",
       "    </tr>\n",
       "    <tr>\n",
       "      <th>1026</th>\n",
       "      <td>Vilavoorkal__Thiruvananthapuram</td>\n",
       "      <td>P</td>\n",
       "      <td>31761</td>\n",
       "      <td>3176.1</td>\n",
       "      <td>2858.49</td>\n",
       "    </tr>\n",
       "    <tr>\n",
       "      <th>1027</th>\n",
       "      <td>Vilayoor__Palakkad</td>\n",
       "      <td>P</td>\n",
       "      <td>23389</td>\n",
       "      <td>2338.9</td>\n",
       "      <td>2105.01</td>\n",
       "    </tr>\n",
       "    <tr>\n",
       "      <th>1028</th>\n",
       "      <td>Villiyappally__Kozhikode</td>\n",
       "      <td>P</td>\n",
       "      <td>34502</td>\n",
       "      <td>3450.2</td>\n",
       "      <td>3105.18</td>\n",
       "    </tr>\n",
       "    <tr>\n",
       "      <th>1029</th>\n",
       "      <td>Vithura__Thiruvananthapuram</td>\n",
       "      <td>P</td>\n",
       "      <td>26249</td>\n",
       "      <td>2624.9</td>\n",
       "      <td>524.98</td>\n",
       "    </tr>\n",
       "    <tr>\n",
       "      <th>1030</th>\n",
       "      <td>Vorkady__Kasaragod</td>\n",
       "      <td>P</td>\n",
       "      <td>25756</td>\n",
       "      <td>2575.6</td>\n",
       "      <td>1030.24</td>\n",
       "    </tr>\n",
       "    <tr>\n",
       "      <th>1031</th>\n",
       "      <td>Vythiri__Wayanad</td>\n",
       "      <td>P</td>\n",
       "      <td>4159</td>\n",
       "      <td>415.9</td>\n",
       "      <td>166.36</td>\n",
       "    </tr>\n",
       "    <tr>\n",
       "      <th>1032</th>\n",
       "      <td>Wandoor__Malappuram</td>\n",
       "      <td>P</td>\n",
       "      <td>10239</td>\n",
       "      <td>1023.9</td>\n",
       "      <td>409.56</td>\n",
       "    </tr>\n",
       "    <tr>\n",
       "      <th>1033</th>\n",
       "      <td>West Eleri__Kasaragod</td>\n",
       "      <td>P</td>\n",
       "      <td>29316</td>\n",
       "      <td>2931.6</td>\n",
       "      <td>1172.64</td>\n",
       "    </tr>\n",
       "    <tr>\n",
       "      <th>1034</th>\n",
       "      <td>West Kallada__Kollam</td>\n",
       "      <td>P</td>\n",
       "      <td>18176</td>\n",
       "      <td>1817.6</td>\n",
       "      <td>1635.84</td>\n",
       "    </tr>\n",
       "  </tbody>\n",
       "</table>\n",
       "</div>"
      ],
      "text/plain": [
       "                                 name type      N       J        T\n",
       "1020             Vettikkavala__Kollam    P  36204  3620.4  1448.16\n",
       "1021               Vettom__Malappuram    P   6577   657.7   591.93\n",
       "1022      Vettoor__Thiruvananthapuram    P  18704  1870.4  1683.36\n",
       "1023            Vijayapuram__Kottayam    P  30838  3083.8  2775.42\n",
       "1024                 Vilakudi__Kollam    P  32995  3299.5  2969.55\n",
       "1025     Vilappil__Thiruvananthapuram    P  36212  3621.2  3259.08\n",
       "1026  Vilavoorkal__Thiruvananthapuram    P  31761  3176.1  2858.49\n",
       "1027               Vilayoor__Palakkad    P  23389  2338.9  2105.01\n",
       "1028         Villiyappally__Kozhikode    P  34502  3450.2  3105.18\n",
       "1029      Vithura__Thiruvananthapuram    P  26249  2624.9   524.98\n",
       "1030               Vorkady__Kasaragod    P  25756  2575.6  1030.24\n",
       "1031                 Vythiri__Wayanad    P   4159   415.9   166.36\n",
       "1032              Wandoor__Malappuram    P  10239  1023.9   409.56\n",
       "1033            West Eleri__Kasaragod    P  29316  2931.6  1172.64\n",
       "1034             West Kallada__Kollam    P  18176  1817.6  1635.84"
      ]
     },
     "execution_count": 3,
     "metadata": {},
     "output_type": "execute_result"
    }
   ],
   "source": [
    "## Load population data\n",
    "initDataDF = pd.read_csv(\"../data/\" + district + \"_population_data.csv\")\n",
    "\n",
    "\n",
    "## Load distance data\n",
    "distanceData = pd.read_csv(\"../data/\" + district + \"_distance_matrix.csv\")\n",
    "\n",
    "## Load area data\n",
    "areaData = pd.read_csv(\"../data/\" + district + \"_area_data.csv\")\n",
    "\n",
    "## Number of regions\n",
    "r = len(initDataDF.index)\n",
    "\n",
    "## Sort population data and distance data by name for easy matrix transformation\n",
    "initDataDF.sort_values(by=['name'], inplace=True)\n",
    "initDataDF.reset_index(drop=True, inplace=True)\n",
    "\n",
    "distanceData.sort_values(by=['fromName', 'toName'], inplace=True)\n",
    "distanceData.reset_index(drop=True, inplace=True)\n",
    "\n",
    "areaData.sort_values(by=['name'], inplace=True)\n",
    "areaData.reset_index(drop=True,inplace=True)\n",
    "\n",
    "## Initialize Job \n",
    "initDataDF.loc[initDataDF['type']=='P','J'] = initDataDF[initDataDF['type']=='P']['N']*zetaPanchayat\n",
    "initDataDF.loc[initDataDF['type']=='M','J'] = initDataDF[initDataDF['type']=='M']['N']*zetaMunicipality\n",
    "initDataDF.loc[initDataDF['type']=='C','J'] = initDataDF[initDataDF['type']=='C']['N']*zetaCorporation\n",
    "\n",
    "## Initialize T\n",
    "areaData['areaSqKm'] = areaData['area']/(1000*1000)\n",
    "\n",
    "initDataDF.loc[areaData['areaSqKm'] <= 25,'T'] = initDataDF[areaData['areaSqKm'] <= 25]['N']*muForSmall\n",
    "initDataDF.loc[(areaData['areaSqKm'] > 25) & (areaData['areaSqKm'] <= 100),'T'] = initDataDF[(areaData['areaSqKm'] > 25) & (areaData['areaSqKm'] <= 100)]['N']*muForMedium\n",
    "initDataDF.loc[areaData['areaSqKm'] > 100,'T'] = initDataDF[areaData['areaSqKm'] > 100]['N']*muForLarge\n",
    "\n",
    "initDataDF.tail(15)\n"
   ]
  },
  {
   "cell_type": "markdown",
   "metadata": {},
   "source": [
    "## Matrix computation of TMatrix\n",
    "\n",
    "### Prepare Distance matrix"
   ]
  },
  {
   "cell_type": "code",
   "execution_count": 4,
   "metadata": {
    "ExecuteTime": {
     "end_time": "2020-04-30T06:53:35.315262Z",
     "start_time": "2020-04-30T06:53:35.272454Z"
    }
   },
   "outputs": [
    {
     "data": {
      "text/plain": [
       "array([[     1,  62713, 257069, ...,  38737, 153934, 239018],\n",
       "       [ 62713,      1, 194549, ...,  74778, 216606, 176575],\n",
       "       [257069, 194549,      1, ..., 263797, 410410,  18277],\n",
       "       ...,\n",
       "       [ 38737,  74778, 263797, ...,      1, 159119, 246386],\n",
       "       [153934, 216606, 410410, ..., 159119,      1, 392249],\n",
       "       [239018, 176575,  18277, ..., 246386, 392249,      1]])"
      ]
     },
     "execution_count": 4,
     "metadata": {},
     "output_type": "execute_result"
    }
   ],
   "source": [
    "distanceMatrix = np.array(distanceData['value'].to_numpy()).reshape(r,r)\n",
    "np.fill_diagonal(distanceMatrix,1)\n",
    "distanceMatrix\n"
   ]
  },
  {
   "cell_type": "code",
   "execution_count": 5,
   "metadata": {
    "ExecuteTime": {
     "end_time": "2020-04-30T06:53:36.476153Z",
     "start_time": "2020-04-30T06:53:36.469804Z"
    }
   },
   "outputs": [],
   "source": [
    "#distanceMatrix[1021,1031]"
   ]
  },
  {
   "cell_type": "markdown",
   "metadata": {},
   "source": [
    "### Job matrix"
   ]
  },
  {
   "cell_type": "code",
   "execution_count": 6,
   "metadata": {
    "ExecuteTime": {
     "end_time": "2020-04-30T06:53:38.189439Z",
     "start_time": "2020-04-30T06:53:38.177836Z"
    }
   },
   "outputs": [
    {
     "data": {
      "text/plain": [
       "array([[ 733.8, 3197.3, 3363.8, ..., 1023.9, 2931.6, 1817.6],\n",
       "       [ 733.8, 3197.3, 3363.8, ..., 1023.9, 2931.6, 1817.6],\n",
       "       [ 733.8, 3197.3, 3363.8, ..., 1023.9, 2931.6, 1817.6],\n",
       "       ...,\n",
       "       [ 733.8, 3197.3, 3363.8, ..., 1023.9, 2931.6, 1817.6],\n",
       "       [ 733.8, 3197.3, 3363.8, ..., 1023.9, 2931.6, 1817.6],\n",
       "       [ 733.8, 3197.3, 3363.8, ..., 1023.9, 2931.6, 1817.6]])"
      ]
     },
     "execution_count": 6,
     "metadata": {},
     "output_type": "execute_result"
    }
   ],
   "source": [
    "jobMatrix = np.tile(initDataDF['J'].to_numpy(),(r,1))\n",
    "jobMatrix\n"
   ]
  },
  {
   "cell_type": "markdown",
   "metadata": {},
   "source": [
    "### Job by Distance Square matrix"
   ]
  },
  {
   "cell_type": "code",
   "execution_count": 7,
   "metadata": {
    "ExecuteTime": {
     "end_time": "2020-04-30T06:53:40.121618Z",
     "start_time": "2020-04-30T06:53:40.081124Z"
    }
   },
   "outputs": [
    {
     "data": {
      "text/plain": [
       "array([[0.00000000e+00, 8.12958235e-07, 5.09015198e-08, ...,\n",
       "        6.82347455e-07, 1.23718773e-07, 3.18153788e-08],\n",
       "       [1.86578911e-07, 0.00000000e+00, 8.88734748e-08, ...,\n",
       "        1.83109068e-07, 6.24832698e-08, 5.82961514e-08],\n",
       "       [1.11039703e-08, 8.44744518e-08, 0.00000000e+00, ...,\n",
       "        1.47135625e-08, 1.74047923e-08, 5.44112233e-06],\n",
       "       ...,\n",
       "       [4.89019008e-07, 5.71788869e-07, 4.83381986e-08, ...,\n",
       "        0.00000000e+00, 1.15787221e-07, 2.99409972e-08],\n",
       "       [3.09676748e-08, 6.81463223e-08, 1.99707464e-08, ...,\n",
       "        4.04402155e-08, 0.00000000e+00, 1.18133922e-08],\n",
       "       [1.28444789e-08, 1.02547472e-07, 1.00697884e-05, ...,\n",
       "        1.68665201e-08, 1.90537746e-08, 0.00000000e+00]])"
      ]
     },
     "execution_count": 7,
     "metadata": {},
     "output_type": "execute_result"
    }
   ],
   "source": [
    "tPropJByDSqMatrix = jobMatrix/np.multiply(distanceMatrix,distanceMatrix)\n",
    "np.fill_diagonal(tPropJByDSqMatrix,0)\n",
    "tPropJByDSqMatrix\n"
   ]
  },
  {
   "cell_type": "markdown",
   "metadata": {},
   "source": [
    "### Sum of Job by Distance Square matrix"
   ]
  },
  {
   "cell_type": "code",
   "execution_count": 8,
   "metadata": {
    "ExecuteTime": {
     "end_time": "2020-04-30T06:53:47.440296Z",
     "start_time": "2020-04-30T06:53:47.428491Z"
    }
   },
   "outputs": [
    {
     "data": {
      "text/plain": [
       "array([[0.00263169, 0.00263169, 0.00263169, ..., 0.00263169, 0.00263169,\n",
       "        0.00263169],\n",
       "       [0.00343079, 0.00343079, 0.00343079, ..., 0.00343079, 0.00343079,\n",
       "        0.00343079],\n",
       "       [0.00368247, 0.00368247, 0.00368247, ..., 0.00368247, 0.00368247,\n",
       "        0.00368247],\n",
       "       ...,\n",
       "       [0.00088496, 0.00088496, 0.00088496, ..., 0.00088496, 0.00088496,\n",
       "        0.00088496],\n",
       "       [0.00068259, 0.00068259, 0.00068259, ..., 0.00068259, 0.00068259,\n",
       "        0.00068259],\n",
       "       [0.00333467, 0.00333467, 0.00333467, ..., 0.00333467, 0.00333467,\n",
       "        0.00333467]])"
      ]
     },
     "execution_count": 8,
     "metadata": {},
     "output_type": "execute_result"
    }
   ],
   "source": [
    "tPropMatrixSum = np.tile(tPropJByDSqMatrix.sum(axis=1),(r,1)).T\n",
    "tPropMatrixSum"
   ]
  },
  {
   "cell_type": "markdown",
   "metadata": {
    "ExecuteTime": {
     "end_time": "2020-04-24T05:08:18.147456Z",
     "start_time": "2020-04-24T05:08:18.133249Z"
    }
   },
   "source": [
    "### Ti propotion matrix"
   ]
  },
  {
   "cell_type": "code",
   "execution_count": 9,
   "metadata": {
    "ExecuteTime": {
     "end_time": "2020-04-30T06:53:55.152827Z",
     "start_time": "2020-04-30T06:53:55.138290Z"
    }
   },
   "outputs": [
    {
     "data": {
      "text/plain": [
       "array([[0.00000000e+00, 3.08911137e-04, 1.93417641e-05, ...,\n",
       "        2.59281128e-04, 4.70111565e-05, 1.20893355e-05],\n",
       "       [5.43836820e-05, 0.00000000e+00, 2.59046789e-05, ...,\n",
       "        5.33722984e-05, 1.82125099e-05, 1.69920563e-05],\n",
       "       [3.01536102e-06, 2.29396299e-05, 0.00000000e+00, ...,\n",
       "        3.99557111e-06, 4.72639344e-06, 1.47757494e-03],\n",
       "       ...,\n",
       "       [5.52586981e-04, 6.46116163e-04, 5.46217199e-05, ...,\n",
       "        0.00000000e+00, 1.30838495e-04, 3.38330514e-05],\n",
       "       [4.53682082e-05, 9.98356045e-05, 2.92575076e-05, ...,\n",
       "        5.92456530e-05, 0.00000000e+00, 1.73068350e-05],\n",
       "       [3.85179585e-06, 3.07518840e-05, 3.01972304e-03, ...,\n",
       "        5.05792352e-06, 5.71383628e-06, 0.00000000e+00]])"
      ]
     },
     "execution_count": 9,
     "metadata": {},
     "output_type": "execute_result"
    }
   ],
   "source": [
    "tPropMatrix = tPropJByDSqMatrix/tPropMatrixSum\n",
    "tPropMatrix"
   ]
  },
  {
   "cell_type": "markdown",
   "metadata": {},
   "source": [
    "### Ti matrix \n",
    "`number of people traveling out of region-i`"
   ]
  },
  {
   "cell_type": "code",
   "execution_count": 10,
   "metadata": {
    "ExecuteTime": {
     "end_time": "2020-04-30T06:53:59.248946Z",
     "start_time": "2020-04-30T06:53:59.236804Z"
    }
   },
   "outputs": [
    {
     "data": {
      "text/plain": [
       "array([[ 660.42,  660.42,  660.42, ...,  660.42,  660.42,  660.42],\n",
       "       [2877.57, 2877.57, 2877.57, ..., 2877.57, 2877.57, 2877.57],\n",
       "       [3027.42, 3027.42, 3027.42, ..., 3027.42, 3027.42, 3027.42],\n",
       "       ...,\n",
       "       [ 409.56,  409.56,  409.56, ...,  409.56,  409.56,  409.56],\n",
       "       [1172.64, 1172.64, 1172.64, ..., 1172.64, 1172.64, 1172.64],\n",
       "       [1635.84, 1635.84, 1635.84, ..., 1635.84, 1635.84, 1635.84]])"
      ]
     },
     "execution_count": 10,
     "metadata": {},
     "output_type": "execute_result"
    }
   ],
   "source": [
    "TiMatrix = np.tile(initDataDF['T'].to_numpy(),(r,1)).T\n",
    "TiMatrix"
   ]
  },
  {
   "cell_type": "markdown",
   "metadata": {},
   "source": [
    "### Tij Matrix"
   ]
  },
  {
   "cell_type": "code",
   "execution_count": 11,
   "metadata": {
    "ExecuteTime": {
     "end_time": "2020-04-30T06:54:02.590407Z",
     "start_time": "2020-04-30T06:54:02.572226Z"
    }
   },
   "outputs": [
    {
     "data": {
      "text/plain": [
       "array([[0.        , 0.20401109, 0.01277369, ..., 0.17123444, 0.03104711,\n",
       "        0.00798404],\n",
       "       [0.15649285, 0.        , 0.07454253, ..., 0.15358252, 0.05240777,\n",
       "        0.04889583],\n",
       "       [0.00912876, 0.06944789, 0.        , ..., 0.01209627, 0.01430878,\n",
       "        4.47323992],\n",
       "       ...,\n",
       "       [0.22631752, 0.26462334, 0.02237087, ..., 0.        , 0.05358621,\n",
       "        0.01385666],\n",
       "       [0.05320058, 0.11707122, 0.03430852, ..., 0.06947382, 0.        ,\n",
       "        0.02029469],\n",
       "       [0.00630092, 0.05030516, 4.93978373, ..., 0.00827395, 0.00934692,\n",
       "        0.        ]])"
      ]
     },
     "execution_count": 11,
     "metadata": {},
     "output_type": "execute_result"
    }
   ],
   "source": [
    "TijMatrix = np.multiply(TiMatrix, tPropMatrix)\n",
    "TijMatrix"
   ]
  },
  {
   "cell_type": "code",
   "execution_count": 12,
   "metadata": {
    "ExecuteTime": {
     "end_time": "2020-04-30T06:54:05.049095Z",
     "start_time": "2020-04-30T06:54:05.038405Z"
    }
   },
   "outputs": [
    {
     "data": {
      "text/plain": [
       "6677.58"
      ]
     },
     "execution_count": 12,
     "metadata": {},
     "output_type": "execute_result"
    }
   ],
   "source": [
    "TijMatrix.sum(axis=1)\n",
    "initDataDF['N'][0] - TijMatrix.sum(axis=1)[0]\n"
   ]
  },
  {
   "cell_type": "markdown",
   "metadata": {},
   "source": [
    "### Add Ni - Tij to diagonal elements"
   ]
  },
  {
   "cell_type": "code",
   "execution_count": 13,
   "metadata": {
    "ExecuteTime": {
     "end_time": "2020-04-30T06:54:08.222521Z",
     "start_time": "2020-04-30T06:54:08.210756Z"
    }
   },
   "outputs": [
    {
     "data": {
      "text/plain": [
       "array([ 7338., 31973., 33638., ..., 10239., 29316., 18176.])"
      ]
     },
     "execution_count": 13,
     "metadata": {},
     "output_type": "execute_result"
    }
   ],
   "source": [
    "row,col = np.diag_indices_from(TijMatrix)\n",
    "TijMatrix[row,col] = initDataDF['N'].to_numpy() - TijMatrix.sum(axis=1)\n",
    "TijMatrix.sum(axis=1)"
   ]
  },
  {
   "cell_type": "code",
   "execution_count": 14,
   "metadata": {
    "ExecuteTime": {
     "end_time": "2020-04-30T06:54:11.622573Z",
     "start_time": "2020-04-30T06:54:11.614019Z"
    }
   },
   "outputs": [
    {
     "data": {
      "text/plain": [
       "array([ 7338., 31973., 33638., ..., 10239., 29316., 18176.])"
      ]
     },
     "execution_count": 14,
     "metadata": {},
     "output_type": "execute_result"
    }
   ],
   "source": [
    "TijMatrix.sum(axis=1)"
   ]
  },
  {
   "cell_type": "markdown",
   "metadata": {
    "ExecuteTime": {
     "end_time": "2020-04-24T05:14:36.245094Z",
     "start_time": "2020-04-24T05:14:36.240507Z"
    }
   },
   "source": [
    "## Save output"
   ]
  },
  {
   "cell_type": "code",
   "execution_count": 15,
   "metadata": {
    "ExecuteTime": {
     "end_time": "2020-04-30T06:59:32.823869Z",
     "start_time": "2020-04-30T06:54:14.272763Z"
    }
   },
   "outputs": [
    {
     "data": {
      "text/html": [
       "<div>\n",
       "<style scoped>\n",
       "    .dataframe tbody tr th:only-of-type {\n",
       "        vertical-align: middle;\n",
       "    }\n",
       "\n",
       "    .dataframe tbody tr th {\n",
       "        vertical-align: top;\n",
       "    }\n",
       "\n",
       "    .dataframe thead th {\n",
       "        text-align: right;\n",
       "    }\n",
       "</style>\n",
       "<table border=\"1\" class=\"dataframe\">\n",
       "  <thead>\n",
       "    <tr style=\"text-align: right;\">\n",
       "      <th></th>\n",
       "      <th>iName</th>\n",
       "      <th>jName</th>\n",
       "      <th>Tij</th>\n",
       "    </tr>\n",
       "  </thead>\n",
       "  <tbody>\n",
       "    <tr>\n",
       "      <th>0</th>\n",
       "      <td>ARNagar__Malappuram</td>\n",
       "      <td>ARNagar__Malappuram</td>\n",
       "      <td>6677.580000</td>\n",
       "    </tr>\n",
       "    <tr>\n",
       "      <th>1</th>\n",
       "      <td>ARNagar__Malappuram</td>\n",
       "      <td>Adat__Thrissur</td>\n",
       "      <td>0.204011</td>\n",
       "    </tr>\n",
       "    <tr>\n",
       "      <th>2</th>\n",
       "      <td>ARNagar__Malappuram</td>\n",
       "      <td>Adichanalloor__Kollam</td>\n",
       "      <td>0.012774</td>\n",
       "    </tr>\n",
       "    <tr>\n",
       "      <th>3</th>\n",
       "      <td>ARNagar__Malappuram</td>\n",
       "      <td>Adimali__Idukki</td>\n",
       "      <td>0.042952</td>\n",
       "    </tr>\n",
       "    <tr>\n",
       "      <th>4</th>\n",
       "      <td>ARNagar__Malappuram</td>\n",
       "      <td>Adoor(M)__Pathanamthitta</td>\n",
       "      <td>0.027946</td>\n",
       "    </tr>\n",
       "    <tr>\n",
       "      <th>...</th>\n",
       "      <td>...</td>\n",
       "      <td>...</td>\n",
       "      <td>...</td>\n",
       "    </tr>\n",
       "    <tr>\n",
       "      <th>1071220</th>\n",
       "      <td>West Kallada__Kollam</td>\n",
       "      <td>Vorkady__Kasaragod</td>\n",
       "      <td>0.006181</td>\n",
       "    </tr>\n",
       "    <tr>\n",
       "      <th>1071221</th>\n",
       "      <td>West Kallada__Kollam</td>\n",
       "      <td>Vythiri__Wayanad</td>\n",
       "      <td>0.002493</td>\n",
       "    </tr>\n",
       "    <tr>\n",
       "      <th>1071222</th>\n",
       "      <td>West Kallada__Kollam</td>\n",
       "      <td>Wandoor__Malappuram</td>\n",
       "      <td>0.008274</td>\n",
       "    </tr>\n",
       "    <tr>\n",
       "      <th>1071223</th>\n",
       "      <td>West Kallada__Kollam</td>\n",
       "      <td>West Eleri__Kasaragod</td>\n",
       "      <td>0.009347</td>\n",
       "    </tr>\n",
       "    <tr>\n",
       "      <th>1071224</th>\n",
       "      <td>West Kallada__Kollam</td>\n",
       "      <td>West Kallada__Kollam</td>\n",
       "      <td>16540.160000</td>\n",
       "    </tr>\n",
       "  </tbody>\n",
       "</table>\n",
       "<p>1071225 rows × 3 columns</p>\n",
       "</div>"
      ],
      "text/plain": [
       "                        iName                     jName           Tij\n",
       "0         ARNagar__Malappuram       ARNagar__Malappuram   6677.580000\n",
       "1         ARNagar__Malappuram            Adat__Thrissur      0.204011\n",
       "2         ARNagar__Malappuram     Adichanalloor__Kollam      0.012774\n",
       "3         ARNagar__Malappuram           Adimali__Idukki      0.042952\n",
       "4         ARNagar__Malappuram  Adoor(M)__Pathanamthitta      0.027946\n",
       "...                       ...                       ...           ...\n",
       "1071220  West Kallada__Kollam        Vorkady__Kasaragod      0.006181\n",
       "1071221  West Kallada__Kollam          Vythiri__Wayanad      0.002493\n",
       "1071222  West Kallada__Kollam       Wandoor__Malappuram      0.008274\n",
       "1071223  West Kallada__Kollam     West Eleri__Kasaragod      0.009347\n",
       "1071224  West Kallada__Kollam      West Kallada__Kollam  16540.160000\n",
       "\n",
       "[1071225 rows x 3 columns]"
      ]
     },
     "execution_count": 15,
     "metadata": {},
     "output_type": "execute_result"
    }
   ],
   "source": [
    "\n",
    "data = []\n",
    "\n",
    "for i in range(0,r):\n",
    "    for j in range(0,r):\n",
    "        Tij = TijMatrix[i][j]\n",
    "        data.append({'iName': initDataDF.iloc[i]['name'], 'jName': initDataDF.iloc[j]['name'], 'Tij': Tij});\n",
    "        \n",
    "resultsDF = pd.DataFrame(data);\n",
    "\n",
    "resultsDF.to_csv(\"../output/\" + district + \"_tmatrix_results.csv\")\n",
    "resultsDF\n"
   ]
  },
  {
   "cell_type": "markdown",
   "metadata": {},
   "source": [
    "## Save top 5 "
   ]
  },
  {
   "cell_type": "code",
   "execution_count": null,
   "metadata": {
    "ExecuteTime": {
     "end_time": "2020-04-30T06:47:21.216562Z",
     "start_time": "2020-04-30T06:47:20.972711Z"
    }
   },
   "outputs": [],
   "source": [
    "resultsDF[\"rank\"] = resultsDF.groupby(['iName'])['Tij'].rank(\"dense\", ascending=False)\n",
    "top5resultsDF = resultsDF[resultsDF[\"rank\"] <= 6]\n",
    "top5resultsDF[\"jName_Tij\"] = top5resultsDF[\"jName\"] + \" (\" + top5resultsDF[\"Tij\"].astype(str)  + \")\"\n",
    "top5resultsDFPivot = top5resultsDF.pivot(index=\"iName\", columns=\"rank\", values=\"jName_Tij\")\n",
    "top5resultsDFPivot.to_csv(\"../output/\" + district + \"_tmatrix_top5_regions.csv\")\n"
   ]
  },
  {
   "cell_type": "markdown",
   "metadata": {},
   "source": [
    "## Old Version\n",
    "### Function definition"
   ]
  },
  {
   "cell_type": "markdown",
   "metadata": {
    "ExecuteTime": {
     "end_time": "2020-04-24T04:23:51.346122Z",
     "start_time": "2020-04-24T04:23:51.340029Z"
    }
   },
   "source": [
    "def getTij(i,j,distanceMatrix, initDataDF, tPropMatrix):\n",
    "    Ti = initDataDF.iloc[i]['T']\n",
    "\n",
    "    if(i==j):\n",
    "        return 0;\n",
    "    \n",
    "    Tjprop = tPropMatrix[i][j]\n",
    "    TjpropSum = tPropMatrix[i].sum();\n",
    "    ## TODO move this tPropMatrix computation.\n",
    "    return Ti*Tjprop/TjpropSum;\n",
    "    \n",
    "    "
   ]
  },
  {
   "cell_type": "markdown",
   "metadata": {},
   "source": [
    "### Compute TMatrix"
   ]
  },
  {
   "cell_type": "markdown",
   "metadata": {
    "ExecuteTime": {
     "end_time": "2020-04-24T05:13:41.847593Z",
     "start_time": "2020-04-24T05:13:41.835183Z"
    }
   },
   "source": [
    "\n",
    "data = []\n",
    "\n",
    "for i in range(0,r):\n",
    "    TijSum = 0\n",
    "    for j in range(0,r):\n",
    "        Tij = getTij(i,j,distanceMatrix, initDataDF, tPropMatrix)\n",
    "        TijSum += Tij\n",
    "        data.append({'iName': initDataDF.iloc[i]['name'], 'jName': initDataDF.iloc[j]['name'], 'Tij': Tij});\n",
    "        \n",
    "resultsDF = pd.DataFrame(data);\n",
    "\n"
   ]
  },
  {
   "cell_type": "code",
   "execution_count": null,
   "metadata": {},
   "outputs": [],
   "source": []
  }
 ],
 "metadata": {
  "kernelspec": {
   "display_name": "Python 3",
   "language": "python",
   "name": "python3"
  },
  "language_info": {
   "codemirror_mode": {
    "name": "ipython",
    "version": 3
   },
   "file_extension": ".py",
   "mimetype": "text/x-python",
   "name": "python",
   "nbconvert_exporter": "python",
   "pygments_lexer": "ipython3",
   "version": "3.7.5"
  }
 },
 "nbformat": 4,
 "nbformat_minor": 2
}
