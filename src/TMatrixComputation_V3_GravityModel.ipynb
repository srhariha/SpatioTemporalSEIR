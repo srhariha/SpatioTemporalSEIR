{
 "cells": [
  {
   "cell_type": "code",
   "execution_count": 1,
   "metadata": {
    "ExecuteTime": {
     "end_time": "2020-04-29T07:31:43.907648Z",
     "start_time": "2020-04-29T07:31:41.468088Z"
    }
   },
   "outputs": [],
   "source": [
    "import numpy as np;\n",
    "import pandas as pd;\n"
   ]
  },
  {
   "cell_type": "markdown",
   "metadata": {},
   "source": [
    "## Initialize Parameters"
   ]
  },
  {
   "cell_type": "code",
   "execution_count": 2,
   "metadata": {
    "ExecuteTime": {
     "end_time": "2020-04-29T07:31:43.920026Z",
     "start_time": "2020-04-29T07:31:43.910005Z"
    }
   },
   "outputs": [],
   "source": [
    "## parameters and global variables\n",
    "\n",
    "district = \"all\"\n",
    "\n",
    "zetaPanchayat = 0.1\n",
    "zetaMunicipality = 0.2\n",
    "zetaCorporation = 0.3\n",
    "\n",
    "\n",
    "muForSmall = 0.09\n",
    "muForMedium = 0.04\n",
    "muForLarge = 0.02\n",
    "\n"
   ]
  },
  {
   "cell_type": "markdown",
   "metadata": {},
   "source": [
    "## Load and Initialize Data"
   ]
  },
  {
   "cell_type": "code",
   "execution_count": 3,
   "metadata": {
    "ExecuteTime": {
     "end_time": "2020-04-29T07:31:45.827596Z",
     "start_time": "2020-04-29T07:31:43.922712Z"
    }
   },
   "outputs": [
    {
     "data": {
      "text/html": [
       "<div>\n",
       "<style scoped>\n",
       "    .dataframe tbody tr th:only-of-type {\n",
       "        vertical-align: middle;\n",
       "    }\n",
       "\n",
       "    .dataframe tbody tr th {\n",
       "        vertical-align: top;\n",
       "    }\n",
       "\n",
       "    .dataframe thead th {\n",
       "        text-align: right;\n",
       "    }\n",
       "</style>\n",
       "<table border=\"1\" class=\"dataframe\">\n",
       "  <thead>\n",
       "    <tr style=\"text-align: right;\">\n",
       "      <th></th>\n",
       "      <th>name</th>\n",
       "      <th>type</th>\n",
       "      <th>N</th>\n",
       "      <th>J</th>\n",
       "      <th>T</th>\n",
       "    </tr>\n",
       "  </thead>\n",
       "  <tbody>\n",
       "    <tr>\n",
       "      <th>1020</th>\n",
       "      <td>Vettikkavala__Kollam</td>\n",
       "      <td>P</td>\n",
       "      <td>36204</td>\n",
       "      <td>3620.4</td>\n",
       "      <td>1448.16</td>\n",
       "    </tr>\n",
       "    <tr>\n",
       "      <th>1021</th>\n",
       "      <td>Vettom__Malappuram</td>\n",
       "      <td>P</td>\n",
       "      <td>6577</td>\n",
       "      <td>657.7</td>\n",
       "      <td>591.93</td>\n",
       "    </tr>\n",
       "    <tr>\n",
       "      <th>1022</th>\n",
       "      <td>Vettoor__Thiruvananthapuram</td>\n",
       "      <td>P</td>\n",
       "      <td>18704</td>\n",
       "      <td>1870.4</td>\n",
       "      <td>1683.36</td>\n",
       "    </tr>\n",
       "    <tr>\n",
       "      <th>1023</th>\n",
       "      <td>Vijayapuram__Kottayam</td>\n",
       "      <td>P</td>\n",
       "      <td>30838</td>\n",
       "      <td>3083.8</td>\n",
       "      <td>2775.42</td>\n",
       "    </tr>\n",
       "    <tr>\n",
       "      <th>1024</th>\n",
       "      <td>Vilakudi__Kollam</td>\n",
       "      <td>P</td>\n",
       "      <td>32995</td>\n",
       "      <td>3299.5</td>\n",
       "      <td>2969.55</td>\n",
       "    </tr>\n",
       "    <tr>\n",
       "      <th>1025</th>\n",
       "      <td>Vilappil__Thiruvananthapuram</td>\n",
       "      <td>P</td>\n",
       "      <td>36212</td>\n",
       "      <td>3621.2</td>\n",
       "      <td>3259.08</td>\n",
       "    </tr>\n",
       "    <tr>\n",
       "      <th>1026</th>\n",
       "      <td>Vilavoorkal__Thiruvananthapuram</td>\n",
       "      <td>P</td>\n",
       "      <td>31761</td>\n",
       "      <td>3176.1</td>\n",
       "      <td>2858.49</td>\n",
       "    </tr>\n",
       "    <tr>\n",
       "      <th>1027</th>\n",
       "      <td>Vilayoor__Palakkad</td>\n",
       "      <td>P</td>\n",
       "      <td>23389</td>\n",
       "      <td>2338.9</td>\n",
       "      <td>2105.01</td>\n",
       "    </tr>\n",
       "    <tr>\n",
       "      <th>1028</th>\n",
       "      <td>Villiyappally__Kozhikode</td>\n",
       "      <td>P</td>\n",
       "      <td>34502</td>\n",
       "      <td>3450.2</td>\n",
       "      <td>3105.18</td>\n",
       "    </tr>\n",
       "    <tr>\n",
       "      <th>1029</th>\n",
       "      <td>Vithura__Thiruvananthapuram</td>\n",
       "      <td>P</td>\n",
       "      <td>26249</td>\n",
       "      <td>2624.9</td>\n",
       "      <td>524.98</td>\n",
       "    </tr>\n",
       "    <tr>\n",
       "      <th>1030</th>\n",
       "      <td>Vorkady__Kasaragod</td>\n",
       "      <td>P</td>\n",
       "      <td>25756</td>\n",
       "      <td>2575.6</td>\n",
       "      <td>1030.24</td>\n",
       "    </tr>\n",
       "    <tr>\n",
       "      <th>1031</th>\n",
       "      <td>Vythiri__Wayanad</td>\n",
       "      <td>P</td>\n",
       "      <td>4159</td>\n",
       "      <td>415.9</td>\n",
       "      <td>166.36</td>\n",
       "    </tr>\n",
       "    <tr>\n",
       "      <th>1032</th>\n",
       "      <td>Wandoor__Malappuram</td>\n",
       "      <td>P</td>\n",
       "      <td>10239</td>\n",
       "      <td>1023.9</td>\n",
       "      <td>409.56</td>\n",
       "    </tr>\n",
       "    <tr>\n",
       "      <th>1033</th>\n",
       "      <td>West Eleri__Kasaragod</td>\n",
       "      <td>P</td>\n",
       "      <td>29316</td>\n",
       "      <td>2931.6</td>\n",
       "      <td>1172.64</td>\n",
       "    </tr>\n",
       "    <tr>\n",
       "      <th>1034</th>\n",
       "      <td>West Kallada__Kollam</td>\n",
       "      <td>P</td>\n",
       "      <td>18176</td>\n",
       "      <td>1817.6</td>\n",
       "      <td>1635.84</td>\n",
       "    </tr>\n",
       "  </tbody>\n",
       "</table>\n",
       "</div>"
      ],
      "text/plain": [
       "                                 name type      N       J        T\n",
       "1020             Vettikkavala__Kollam    P  36204  3620.4  1448.16\n",
       "1021               Vettom__Malappuram    P   6577   657.7   591.93\n",
       "1022      Vettoor__Thiruvananthapuram    P  18704  1870.4  1683.36\n",
       "1023            Vijayapuram__Kottayam    P  30838  3083.8  2775.42\n",
       "1024                 Vilakudi__Kollam    P  32995  3299.5  2969.55\n",
       "1025     Vilappil__Thiruvananthapuram    P  36212  3621.2  3259.08\n",
       "1026  Vilavoorkal__Thiruvananthapuram    P  31761  3176.1  2858.49\n",
       "1027               Vilayoor__Palakkad    P  23389  2338.9  2105.01\n",
       "1028         Villiyappally__Kozhikode    P  34502  3450.2  3105.18\n",
       "1029      Vithura__Thiruvananthapuram    P  26249  2624.9   524.98\n",
       "1030               Vorkady__Kasaragod    P  25756  2575.6  1030.24\n",
       "1031                 Vythiri__Wayanad    P   4159   415.9   166.36\n",
       "1032              Wandoor__Malappuram    P  10239  1023.9   409.56\n",
       "1033            West Eleri__Kasaragod    P  29316  2931.6  1172.64\n",
       "1034             West Kallada__Kollam    P  18176  1817.6  1635.84"
      ]
     },
     "execution_count": 3,
     "metadata": {},
     "output_type": "execute_result"
    }
   ],
   "source": [
    "## Load population data\n",
    "initDataDF = pd.read_csv(\"../data/\" + district + \"_population_data.csv\")\n",
    "\n",
    "\n",
    "## Load distance data\n",
    "distanceData = pd.read_csv(\"../data/\" + district + \"_distance_matrix.csv\")\n",
    "\n",
    "## Load area data\n",
    "areaData = pd.read_csv(\"../data/\" + district + \"_area_data.csv\")\n",
    "\n",
    "## Number of regions\n",
    "r = len(initDataDF.index)\n",
    "\n",
    "## Sort population data and distance data by name for easy matrix transformation\n",
    "initDataDF.sort_values(by=['name'], inplace=True)\n",
    "initDataDF.reset_index(drop=True, inplace=True)\n",
    "\n",
    "distanceData.sort_values(by=['fromName', 'toName'], inplace=True)\n",
    "distanceData.reset_index(drop=True, inplace=True)\n",
    "\n",
    "areaData.sort_values(by=['name'], inplace=True)\n",
    "areaData.reset_index(drop=True,inplace=True)\n",
    "\n",
    "## Initialize Job \n",
    "initDataDF.loc[initDataDF['type']=='P','J'] = initDataDF[initDataDF['type']=='P']['N']*zetaPanchayat\n",
    "initDataDF.loc[initDataDF['type']=='M','J'] = initDataDF[initDataDF['type']=='M']['N']*zetaMunicipality\n",
    "initDataDF.loc[initDataDF['type']=='C','J'] = initDataDF[initDataDF['type']=='C']['N']*zetaCorporation\n",
    "\n",
    "## Initialize T\n",
    "areaData['areaSqKm'] = areaData['area']/(1000*1000)\n",
    "\n",
    "initDataDF.loc[areaData['areaSqKm'] <= 25,'T'] = initDataDF[areaData['areaSqKm'] <= 25]['N']*muForSmall\n",
    "initDataDF.loc[(areaData['areaSqKm'] > 25) & (areaData['areaSqKm'] <= 100),'T'] = initDataDF[(areaData['areaSqKm'] > 25) & (areaData['areaSqKm'] <= 100)]['N']*muForMedium\n",
    "initDataDF.loc[areaData['areaSqKm'] > 100,'T'] = initDataDF[areaData['areaSqKm'] > 100]['N']*muForLarge\n",
    "\n",
    "initDataDF.tail(15)\n"
   ]
  },
  {
   "cell_type": "markdown",
   "metadata": {},
   "source": [
    "## Matrix computation of TMatrix\n",
    "\n",
    "### Prepare Distance matrix"
   ]
  },
  {
   "cell_type": "code",
   "execution_count": 4,
   "metadata": {
    "ExecuteTime": {
     "end_time": "2020-04-29T07:31:45.848349Z",
     "start_time": "2020-04-29T07:31:45.831329Z"
    }
   },
   "outputs": [
    {
     "data": {
      "text/plain": [
       "array([[     1,  62713, 257069, ...,  38737, 153934, 239018],\n",
       "       [ 62713,      1, 194549, ...,  74778, 216606, 176575],\n",
       "       [257069, 194549,      1, ..., 263797, 410410,  18277],\n",
       "       ...,\n",
       "       [ 38737,  74778, 263797, ...,      1, 159119, 246386],\n",
       "       [153934, 216606, 410410, ..., 159119,      1, 392249],\n",
       "       [239018, 176575,  18277, ..., 246386, 392249,      1]])"
      ]
     },
     "execution_count": 4,
     "metadata": {},
     "output_type": "execute_result"
    }
   ],
   "source": [
    "distanceMatrix = np.array(distanceData['value'].to_numpy()).reshape(r,r)\n",
    "np.fill_diagonal(distanceMatrix,1)\n",
    "distanceMatrix\n"
   ]
  },
  {
   "cell_type": "code",
   "execution_count": 5,
   "metadata": {
    "ExecuteTime": {
     "end_time": "2020-04-29T07:31:45.860851Z",
     "start_time": "2020-04-29T07:31:45.850746Z"
    }
   },
   "outputs": [
    {
     "data": {
      "text/plain": [
       "74357"
      ]
     },
     "execution_count": 5,
     "metadata": {},
     "output_type": "execute_result"
    }
   ],
   "source": [
    "distanceMatrix[1021,1031]"
   ]
  },
  {
   "cell_type": "markdown",
   "metadata": {},
   "source": [
    "### Job matrix"
   ]
  },
  {
   "cell_type": "code",
   "execution_count": 6,
   "metadata": {
    "ExecuteTime": {
     "end_time": "2020-04-29T07:31:45.878160Z",
     "start_time": "2020-04-29T07:31:45.866724Z"
    }
   },
   "outputs": [
    {
     "data": {
      "text/plain": [
       "array([[ 733.8, 3197.3, 3363.8, ..., 1023.9, 2931.6, 1817.6],\n",
       "       [ 733.8, 3197.3, 3363.8, ..., 1023.9, 2931.6, 1817.6],\n",
       "       [ 733.8, 3197.3, 3363.8, ..., 1023.9, 2931.6, 1817.6],\n",
       "       ...,\n",
       "       [ 733.8, 3197.3, 3363.8, ..., 1023.9, 2931.6, 1817.6],\n",
       "       [ 733.8, 3197.3, 3363.8, ..., 1023.9, 2931.6, 1817.6],\n",
       "       [ 733.8, 3197.3, 3363.8, ..., 1023.9, 2931.6, 1817.6]])"
      ]
     },
     "execution_count": 6,
     "metadata": {},
     "output_type": "execute_result"
    }
   ],
   "source": [
    "jobMatrix = np.tile(initDataDF['J'].to_numpy(),(r,1))\n",
    "jobMatrix\n"
   ]
  },
  {
   "cell_type": "markdown",
   "metadata": {},
   "source": [
    "### Job by Distance Square matrix"
   ]
  },
  {
   "cell_type": "code",
   "execution_count": 7,
   "metadata": {
    "ExecuteTime": {
     "end_time": "2020-04-29T07:31:45.914812Z",
     "start_time": "2020-04-29T07:31:45.884630Z"
    }
   },
   "outputs": [
    {
     "data": {
      "text/plain": [
       "array([[0.00000000e+00, 8.12958235e-07, 5.09015198e-08, ...,\n",
       "        6.82347455e-07, 1.23718773e-07, 3.18153788e-08],\n",
       "       [1.86578911e-07, 0.00000000e+00, 8.88734748e-08, ...,\n",
       "        1.83109068e-07, 6.24832698e-08, 5.82961514e-08],\n",
       "       [1.11039703e-08, 8.44744518e-08, 0.00000000e+00, ...,\n",
       "        1.47135625e-08, 1.74047923e-08, 5.44112233e-06],\n",
       "       ...,\n",
       "       [4.89019008e-07, 5.71788869e-07, 4.83381986e-08, ...,\n",
       "        0.00000000e+00, 1.15787221e-07, 2.99409972e-08],\n",
       "       [3.09676748e-08, 6.81463223e-08, 1.99707464e-08, ...,\n",
       "        4.04402155e-08, 0.00000000e+00, 1.18133922e-08],\n",
       "       [1.28444789e-08, 1.02547472e-07, 1.00697884e-05, ...,\n",
       "        1.68665201e-08, 1.90537746e-08, 0.00000000e+00]])"
      ]
     },
     "execution_count": 7,
     "metadata": {},
     "output_type": "execute_result"
    }
   ],
   "source": [
    "tPropJByDSqMatrix = jobMatrix/np.multiply(distanceMatrix,distanceMatrix)\n",
    "np.fill_diagonal(tPropJByDSqMatrix,0)\n",
    "tPropJByDSqMatrix\n"
   ]
  },
  {
   "cell_type": "markdown",
   "metadata": {},
   "source": [
    "### Sum of Job by Distance Square matrix"
   ]
  },
  {
   "cell_type": "code",
   "execution_count": 8,
   "metadata": {
    "ExecuteTime": {
     "end_time": "2020-04-29T07:31:45.943820Z",
     "start_time": "2020-04-29T07:31:45.929600Z"
    }
   },
   "outputs": [
    {
     "data": {
      "text/plain": [
       "array([[0.00263169, 0.00263169, 0.00263169, ..., 0.00263169, 0.00263169,\n",
       "        0.00263169],\n",
       "       [0.00343079, 0.00343079, 0.00343079, ..., 0.00343079, 0.00343079,\n",
       "        0.00343079],\n",
       "       [0.00368247, 0.00368247, 0.00368247, ..., 0.00368247, 0.00368247,\n",
       "        0.00368247],\n",
       "       ...,\n",
       "       [0.00088496, 0.00088496, 0.00088496, ..., 0.00088496, 0.00088496,\n",
       "        0.00088496],\n",
       "       [0.00068259, 0.00068259, 0.00068259, ..., 0.00068259, 0.00068259,\n",
       "        0.00068259],\n",
       "       [0.00333467, 0.00333467, 0.00333467, ..., 0.00333467, 0.00333467,\n",
       "        0.00333467]])"
      ]
     },
     "execution_count": 8,
     "metadata": {},
     "output_type": "execute_result"
    }
   ],
   "source": [
    "tPropMatrixSum = np.tile(tPropJByDSqMatrix.sum(axis=1),(r,1)).T\n",
    "tPropMatrixSum"
   ]
  },
  {
   "cell_type": "markdown",
   "metadata": {
    "ExecuteTime": {
     "end_time": "2020-04-24T05:08:18.147456Z",
     "start_time": "2020-04-24T05:08:18.133249Z"
    }
   },
   "source": [
    "### Ti propotion matrix"
   ]
  },
  {
   "cell_type": "code",
   "execution_count": 9,
   "metadata": {
    "ExecuteTime": {
     "end_time": "2020-04-29T07:31:45.994542Z",
     "start_time": "2020-04-29T07:31:45.969739Z"
    }
   },
   "outputs": [
    {
     "data": {
      "text/plain": [
       "array([[0.00000000e+00, 3.08911137e-04, 1.93417641e-05, ...,\n",
       "        2.59281128e-04, 4.70111565e-05, 1.20893355e-05],\n",
       "       [5.43836820e-05, 0.00000000e+00, 2.59046789e-05, ...,\n",
       "        5.33722984e-05, 1.82125099e-05, 1.69920563e-05],\n",
       "       [3.01536102e-06, 2.29396299e-05, 0.00000000e+00, ...,\n",
       "        3.99557111e-06, 4.72639344e-06, 1.47757494e-03],\n",
       "       ...,\n",
       "       [5.52586981e-04, 6.46116163e-04, 5.46217199e-05, ...,\n",
       "        0.00000000e+00, 1.30838495e-04, 3.38330514e-05],\n",
       "       [4.53682082e-05, 9.98356045e-05, 2.92575076e-05, ...,\n",
       "        5.92456530e-05, 0.00000000e+00, 1.73068350e-05],\n",
       "       [3.85179585e-06, 3.07518840e-05, 3.01972304e-03, ...,\n",
       "        5.05792352e-06, 5.71383628e-06, 0.00000000e+00]])"
      ]
     },
     "execution_count": 9,
     "metadata": {},
     "output_type": "execute_result"
    }
   ],
   "source": [
    "tPropMatrix = tPropJByDSqMatrix/tPropMatrixSum\n",
    "tPropMatrix"
   ]
  },
  {
   "cell_type": "markdown",
   "metadata": {},
   "source": [
    "### Ti matrix \n",
    "`number of people traveling out of region-i`"
   ]
  },
  {
   "cell_type": "code",
   "execution_count": 10,
   "metadata": {
    "ExecuteTime": {
     "end_time": "2020-04-29T07:31:46.020912Z",
     "start_time": "2020-04-29T07:31:46.000091Z"
    }
   },
   "outputs": [
    {
     "data": {
      "text/plain": [
       "array([[ 660.42,  660.42,  660.42, ...,  660.42,  660.42,  660.42],\n",
       "       [2877.57, 2877.57, 2877.57, ..., 2877.57, 2877.57, 2877.57],\n",
       "       [3027.42, 3027.42, 3027.42, ..., 3027.42, 3027.42, 3027.42],\n",
       "       ...,\n",
       "       [ 409.56,  409.56,  409.56, ...,  409.56,  409.56,  409.56],\n",
       "       [1172.64, 1172.64, 1172.64, ..., 1172.64, 1172.64, 1172.64],\n",
       "       [1635.84, 1635.84, 1635.84, ..., 1635.84, 1635.84, 1635.84]])"
      ]
     },
     "execution_count": 10,
     "metadata": {},
     "output_type": "execute_result"
    }
   ],
   "source": [
    "TiMatrix = np.tile(initDataDF['T'].to_numpy(),(r,1)).T\n",
    "TiMatrix"
   ]
  },
  {
   "cell_type": "markdown",
   "metadata": {},
   "source": [
    "### Tij Matrix"
   ]
  },
  {
   "cell_type": "code",
   "execution_count": 11,
   "metadata": {
    "ExecuteTime": {
     "end_time": "2020-04-29T07:31:46.046440Z",
     "start_time": "2020-04-29T07:31:46.024428Z"
    }
   },
   "outputs": [
    {
     "data": {
      "text/plain": [
       "array([[0.        , 0.20401109, 0.01277369, ..., 0.17123444, 0.03104711,\n",
       "        0.00798404],\n",
       "       [0.15649285, 0.        , 0.07454253, ..., 0.15358252, 0.05240777,\n",
       "        0.04889583],\n",
       "       [0.00912876, 0.06944789, 0.        , ..., 0.01209627, 0.01430878,\n",
       "        4.47323992],\n",
       "       ...,\n",
       "       [0.22631752, 0.26462334, 0.02237087, ..., 0.        , 0.05358621,\n",
       "        0.01385666],\n",
       "       [0.05320058, 0.11707122, 0.03430852, ..., 0.06947382, 0.        ,\n",
       "        0.02029469],\n",
       "       [0.00630092, 0.05030516, 4.93978373, ..., 0.00827395, 0.00934692,\n",
       "        0.        ]])"
      ]
     },
     "execution_count": 11,
     "metadata": {},
     "output_type": "execute_result"
    }
   ],
   "source": [
    "TijMatrix = np.multiply(TiMatrix, tPropMatrix)\n",
    "TijMatrix"
   ]
  },
  {
   "cell_type": "code",
   "execution_count": 12,
   "metadata": {
    "ExecuteTime": {
     "end_time": "2020-04-29T07:31:46.065082Z",
     "start_time": "2020-04-29T07:31:46.050923Z"
    }
   },
   "outputs": [
    {
     "data": {
      "text/plain": [
       "47484.0732845316"
      ]
     },
     "execution_count": 12,
     "metadata": {},
     "output_type": "execute_result"
    }
   ],
   "source": [
    "TijMatrix.sum(axis=0)[7]\n",
    "initDataDF['N'][7] - TijMatrix.sum(axis=0)[7]"
   ]
  },
  {
   "cell_type": "markdown",
   "metadata": {},
   "source": [
    "### Add Ni - Tij to diagonal elements"
   ]
  },
  {
   "cell_type": "code",
   "execution_count": 13,
   "metadata": {
    "ExecuteTime": {
     "end_time": "2020-04-29T07:31:46.127584Z",
     "start_time": "2020-04-29T07:31:46.071947Z"
    }
   },
   "outputs": [
    {
     "data": {
      "text/plain": [
       "array([[6.89933950e+03, 2.04011093e-01, 1.27736878e-02, ...,\n",
       "        1.71234443e-01, 3.10471080e-02, 7.98403894e-03],\n",
       "       [1.56492852e-01, 3.01057964e+04, 7.45425270e-02, ...,\n",
       "        1.53582525e-01, 5.24077722e-02, 4.88958314e-02],\n",
       "       [9.12876427e-03, 6.94478945e-02, 3.11619041e+04, ...,\n",
       "        1.20962719e-02, 1.43087780e-02, 4.47323992e+00],\n",
       "       ...,\n",
       "       [2.26317524e-01, 2.64623336e-01, 2.23708716e-02, ...,\n",
       "        1.00083826e+04, 5.35862141e-02, 1.38566645e-02],\n",
       "       [5.32005756e-02, 1.17071223e-01, 3.43085238e-02, ...,\n",
       "        6.94738226e-02, 2.84534246e+04, 2.02946870e-02],\n",
       "       [6.30092172e-03, 5.03051619e-02, 4.93978373e+00, ...,\n",
       "        8.27395362e-03, 9.34692194e-03, 1.68187806e+04]])"
      ]
     },
     "execution_count": 13,
     "metadata": {},
     "output_type": "execute_result"
    }
   ],
   "source": [
    "row,col = np.diag_indices_from(TijMatrix)\n",
    "TijMatrix[row,col] = initDataDF['N'].to_numpy() - TijMatrix.sum(axis=0)\n",
    "TijMatrix"
   ]
  },
  {
   "cell_type": "code",
   "execution_count": 17,
   "metadata": {
    "ExecuteTime": {
     "end_time": "2020-04-29T07:38:27.350491Z",
     "start_time": "2020-04-29T07:38:27.341815Z"
    }
   },
   "outputs": [
    {
     "data": {
      "text/plain": [
       "32994.99999999999"
      ]
     },
     "execution_count": 17,
     "metadata": {},
     "output_type": "execute_result"
    }
   ],
   "source": [
    "TijMatrix.sum(axis=0)[1024]"
   ]
  },
  {
   "cell_type": "markdown",
   "metadata": {
    "ExecuteTime": {
     "end_time": "2020-04-24T05:14:36.245094Z",
     "start_time": "2020-04-24T05:14:36.240507Z"
    }
   },
   "source": [
    "## Save output"
   ]
  },
  {
   "cell_type": "code",
   "execution_count": 15,
   "metadata": {
    "ExecuteTime": {
     "end_time": "2020-04-29T07:38:26.804876Z",
     "start_time": "2020-04-29T07:31:46.146858Z"
    }
   },
   "outputs": [],
   "source": [
    "\n",
    "data = []\n",
    "\n",
    "for i in range(0,r):\n",
    "    for j in range(0,r):\n",
    "        Tij = TijMatrix[i][j]\n",
    "        data.append({'iName': initDataDF.iloc[i]['name'], 'jName': initDataDF.iloc[j]['name'], 'Tij': Tij});\n",
    "        \n",
    "resultsDF = pd.DataFrame(data);\n",
    "\n",
    "resultsDF.to_csv(\"../output/\" + district + \"_tmatrix_results.csv\")\n"
   ]
  },
  {
   "cell_type": "markdown",
   "metadata": {},
   "source": [
    "## Save top 5 "
   ]
  },
  {
   "cell_type": "code",
   "execution_count": 16,
   "metadata": {
    "ExecuteTime": {
     "end_time": "2020-04-29T07:38:27.339409Z",
     "start_time": "2020-04-29T07:38:26.806943Z"
    }
   },
   "outputs": [
    {
     "name": "stderr",
     "output_type": "stream",
     "text": [
      "/Users/sreeramh/anaconda3/lib/python3.7/site-packages/ipykernel_launcher.py:3: SettingWithCopyWarning: \n",
      "A value is trying to be set on a copy of a slice from a DataFrame.\n",
      "Try using .loc[row_indexer,col_indexer] = value instead\n",
      "\n",
      "See the caveats in the documentation: http://pandas.pydata.org/pandas-docs/stable/user_guide/indexing.html#returning-a-view-versus-a-copy\n",
      "  This is separate from the ipykernel package so we can avoid doing imports until\n"
     ]
    }
   ],
   "source": [
    "resultsDF[\"rank\"] = resultsDF.groupby(['iName'])['Tij'].rank(\"dense\", ascending=False)\n",
    "top5resultsDF = resultsDF[resultsDF[\"rank\"] <= 6]\n",
    "top5resultsDF[\"jName_Tij\"] = top5resultsDF[\"jName\"] + \" (\" + top5resultsDF[\"Tij\"].astype(str)  + \")\"\n",
    "top5resultsDFPivot = top5resultsDF.pivot(index=\"iName\", columns=\"rank\", values=\"jName_Tij\")\n",
    "top5resultsDFPivot.to_csv(\"../output/\" + district + \"_tmatrix_top5_regions.csv\")\n"
   ]
  },
  {
   "cell_type": "markdown",
   "metadata": {},
   "source": [
    "## Old Version\n",
    "### Function definition"
   ]
  },
  {
   "cell_type": "markdown",
   "metadata": {
    "ExecuteTime": {
     "end_time": "2020-04-24T04:23:51.346122Z",
     "start_time": "2020-04-24T04:23:51.340029Z"
    }
   },
   "source": [
    "def getTij(i,j,distanceMatrix, initDataDF, tPropMatrix):\n",
    "    Ti = initDataDF.iloc[i]['T']\n",
    "\n",
    "    if(i==j):\n",
    "        return 0;\n",
    "    \n",
    "    Tjprop = tPropMatrix[i][j]\n",
    "    TjpropSum = tPropMatrix[i].sum();\n",
    "    ## TODO move this tPropMatrix computation.\n",
    "    return Ti*Tjprop/TjpropSum;\n",
    "    \n",
    "    "
   ]
  },
  {
   "cell_type": "markdown",
   "metadata": {},
   "source": [
    "### Compute TMatrix"
   ]
  },
  {
   "cell_type": "markdown",
   "metadata": {
    "ExecuteTime": {
     "end_time": "2020-04-24T05:13:41.847593Z",
     "start_time": "2020-04-24T05:13:41.835183Z"
    }
   },
   "source": [
    "\n",
    "data = []\n",
    "\n",
    "for i in range(0,r):\n",
    "    TijSum = 0\n",
    "    for j in range(0,r):\n",
    "        Tij = getTij(i,j,distanceMatrix, initDataDF, tPropMatrix)\n",
    "        TijSum += Tij\n",
    "        data.append({'iName': initDataDF.iloc[i]['name'], 'jName': initDataDF.iloc[j]['name'], 'Tij': Tij});\n",
    "        \n",
    "resultsDF = pd.DataFrame(data);\n",
    "\n"
   ]
  },
  {
   "cell_type": "code",
   "execution_count": null,
   "metadata": {},
   "outputs": [],
   "source": []
  }
 ],
 "metadata": {
  "kernelspec": {
   "display_name": "Python 3",
   "language": "python",
   "name": "python3"
  },
  "language_info": {
   "codemirror_mode": {
    "name": "ipython",
    "version": 3
   },
   "file_extension": ".py",
   "mimetype": "text/x-python",
   "name": "python",
   "nbconvert_exporter": "python",
   "pygments_lexer": "ipython3",
   "version": "3.7.5"
  }
 },
 "nbformat": 4,
 "nbformat_minor": 2
}
