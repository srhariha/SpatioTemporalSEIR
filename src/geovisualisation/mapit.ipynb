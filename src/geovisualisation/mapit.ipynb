{
 "cells": [
  {
   "cell_type": "code",
   "execution_count": 101,
   "metadata": {},
   "outputs": [],
   "source": [
    "sim_results = [[\"Kavilumpara__Kozhikode\", 0,1,2,3,10,20,40,80, 120,300, 600, 1020]]"
   ]
  },
  {
   "cell_type": "code",
   "execution_count": 123,
   "metadata": {},
   "outputs": [],
   "source": [
    "import ipyleaflet as il\n",
    "\n",
    "\n",
    "import geopandas as gp\n",
    "import pandas as pd\n",
    "import json\n",
    "from branca.colormap import linear\n",
    "\n",
    "shpfile = \"KER_LSGD_Boundary_UTM_Modified_wgs84Radians.shp\"\n",
    "gdf = gp.read_file(shpfile)\n",
    "#gdf = gdf[gdf['DISTRICT'] == \"Kozhikode\"]\n",
    "gdf.loc[gdf[\"DISTRICT\"].isnull(),\"DISTRICT\"] =\"\"\n",
    "gdf[\"UNAME\"] = gdf[\"LSGD\"] + \"__\" + gdf[\"DISTRICT\"]\n",
    "\n",
    "#It is a work around, the plotting library is still in development\n",
    "idmap = gdf[\"UNAME\"].to_dict()\n",
    "propermap ={}\n",
    "for key in idmap:\n",
    "    propermap[str(key)] = key\n",
    "    \n",
    "\n",
    "columns =[\"UNAME\"]\n",
    "for i in range(len(sim_results[0])-1):\n",
    "    columns.append(\"day__\"+str(i))\n",
    "\n",
    "sim_results_df = pd.DataFrame(sim_results, columns=columns)\n",
    "\n",
    "subdf = gdf[[\"UNAME\",\"geometry\"]]\n",
    "geojson = subdf.to_json()\n",
    "geo_data = json.loads(geojson)\n",
    "\n",
    "SLIDER_VALUE = 3"
   ]
  },
  {
   "cell_type": "code",
   "execution_count": 124,
   "metadata": {},
   "outputs": [],
   "source": [
    "def get_color_for_count(x):\n",
    "    if x <=0: return '#FFFFFF'\n",
    "    if x <=1: return '#FCFBC0'\n",
    "    if x <=4: return '#FCFB99'\n",
    "    if x <=8: return '#FDFB68'\n",
    "    if x <=15: return '#FEFB01'\n",
    "    if x <=30: return '#FFC100'\n",
    "\n",
    "    if x <=60: return '#FF9201'\n",
    "    if x <=125: return '#FF6666'\n",
    "    if x <=250: return '#FF4C4C'\n",
    "    if x <=500: return '#FF3333'\n",
    "    return '#FF0000'\n",
    "  \n",
    "\n",
    "def get_color(x):\n",
    "    id = x['id']\n",
    "    uname = idmap[int(id)]\n",
    "    day = \"day__\"+str(SLIDER_VALUE)\n",
    "    infected = 0\n",
    "    if any(sim_results_df[\"UNAME\"] == uname):\n",
    "        infected = sim_results_df[sim_results_df[\"UNAME\"] == uname][day].to_list()[0]\n",
    "    lcolor = 'grey' if infected ==0 else 'black'\n",
    "    return get_color_for_count(infected), lcolor\n",
    "\n",
    "\n",
    "def callback(x,y,z):\n",
    "    fcolor, lcolor = get_color(x)\n",
    "    \n",
    "    return dict(\n",
    "                fillColor=fcolor,\n",
    "                color='grey',\n",
    "                fillOpacity=1.0,\n",
    "                weight=1.0\n",
    "    )"
   ]
  },
  {
   "cell_type": "code",
   "execution_count": 125,
   "metadata": {},
   "outputs": [],
   "source": [
    "layer = il.Choropleth( geo_data=geo_data, choro_data=propermap, style_callback=callback) \n",
    "\n",
    "m = il.Map(center=(9.9816,76.2999), zoom = 8)\n",
    "m.add_layer(layer)"
   ]
  },
  {
   "cell_type": "code",
   "execution_count": 126,
   "metadata": {},
   "outputs": [
    {
     "data": {
      "application/vnd.jupyter.widget-view+json": {
       "model_id": "13d3b84e81cd4c6a8f82bce22c850dfe",
       "version_major": 2,
       "version_minor": 0
      },
      "text/plain": [
       "interactive(children=(IntSlider(value=0, description='x', max=11), Output()), _dom_classes=('widget-interact',…"
      ]
     },
     "metadata": {},
     "output_type": "display_data"
    },
    {
     "data": {
      "application/vnd.jupyter.widget-view+json": {
       "model_id": "c2d7a27dae3c4e04aa8fdaf5059bff8d",
       "version_major": 2,
       "version_minor": 0
      },
      "text/plain": [
       "Map(center=[9.9816, 76.2999], controls=(ZoomControl(options=['position', 'zoom_in_text', 'zoom_in_title', 'zoo…"
      ]
     },
     "metadata": {},
     "output_type": "display_data"
    }
   ],
   "source": [
    "def f(x):\n",
    "    global SLIDER_VALUE\n",
    "    SLIDER_VALUE =x\n",
    "    global layer\n",
    "    if layer.colormap == linear.Blues_04:\n",
    "        layer.colormap = linear.Blues_03\n",
    "    else:\n",
    "        layer.colormap = linear.Blues_04\n",
    "from ipywidgets import interact, interactive, fixed, interact_manual\n",
    "import ipywidgets as widgets\n",
    "\n",
    "interact(f, x=widgets.IntSlider(min=0, max=len(sim_results[0])-2, step=1, value=0))\n",
    "\n",
    "m.layout.height = '1000px'\n",
    "m"
   ]
  },
  {
   "cell_type": "code",
   "execution_count": null,
   "metadata": {},
   "outputs": [],
   "source": []
  }
 ],
 "metadata": {
  "kernelspec": {
   "display_name": "Python 3",
   "language": "python",
   "name": "python3"
  },
  "language_info": {
   "codemirror_mode": {
    "name": "ipython",
    "version": 3
   },
   "file_extension": ".py",
   "mimetype": "text/x-python",
   "name": "python",
   "nbconvert_exporter": "python",
   "pygments_lexer": "ipython3",
   "version": "3.7.5"
  }
 },
 "nbformat": 4,
 "nbformat_minor": 2
}
