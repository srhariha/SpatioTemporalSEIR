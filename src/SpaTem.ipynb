{
 "cells": [
  {
   "cell_type": "code",
   "execution_count": null,
   "metadata": {
    "ExecuteTime": {
     "end_time": "2020-04-28T16:47:02.008904Z",
     "start_time": "2020-04-28T16:46:59.349981Z"
    }
   },
   "outputs": [],
   "source": [
    "import numpy as np;\n",
    "import pandas as pd;\n",
    "import plotly.express as px;\n",
    "import json"
   ]
  },
  {
   "cell_type": "markdown",
   "metadata": {},
   "source": [
    "## Initialize Parameters"
   ]
  },
  {
   "cell_type": "code",
   "execution_count": 2,
   "metadata": {
    "ExecuteTime": {
     "end_time": "2020-04-28T16:47:49.425731Z",
     "start_time": "2020-04-28T16:47:49.417373Z"
    }
   },
   "outputs": [
    {
     "name": "stdout",
     "output_type": "stream",
     "text": [
      "{'pi': 0.02, 'tE': 3, 'tI': 7, 'cw': 15, 'ch': 5, 'eBC': 0.6666666666666666, 'eLD': 0.1, 'eDB': 0.2}\n"
     ]
    }
   ],
   "source": [
    "# Global parameters\n",
    "NO_OF_DAYS = 180\n",
    "modelParameter = {}\n",
    "modelParameter[\"pi\"] = 0.02\n",
    "modelParameter[\"tE\"] = 3\n",
    "modelParameter[\"tI\"] = 7\n",
    "modelParameter[\"cw\"] = 15\n",
    "modelParameter[\"ch\"] = 5\n",
    "modelParameter[\"eBC\"] = 2/3\n",
    "modelParameter[\"eLD\"] = 1/10\n",
    "modelParameter[\"eDB\"] = 1/5\n",
    "\n",
    "district = \"all\"\n",
    "\n",
    "print(modelParameter)\n"
   ]
  },
  {
   "cell_type": "markdown",
   "metadata": {},
   "source": [
    "## Load and Initialize Data"
   ]
  },
  {
   "cell_type": "code",
   "execution_count": 3,
   "metadata": {
    "ExecuteTime": {
     "end_time": "2020-04-28T16:47:54.385079Z",
     "start_time": "2020-04-28T16:47:53.694003Z"
    }
   },
   "outputs": [
    {
     "data": {
      "text/plain": [
       "array([[1.28101813e+01, 7.97311329e-04, 4.84355174e-05, ...,\n",
       "        8.49901483e-04, 1.85589615e-04, 3.13397084e-05],\n",
       "       [1.82987850e-04, 1.28299576e+01, 7.36349206e-05, ...,\n",
       "        2.10398700e-04, 8.58909966e-05, 5.03575492e-05],\n",
       "       [1.05660214e-05, 6.99901693e-05, 1.26325617e+01, ...,\n",
       "        1.62915671e-05, 2.29139708e-05, 4.34002239e-03],\n",
       "       ...,\n",
       "       [6.09100213e-04, 6.57005336e-04, 5.35223885e-05, ...,\n",
       "        1.40700547e+01, 1.86632041e-04, 3.40275355e-05],\n",
       "       [4.64543796e-05, 9.36755640e-05, 2.62921322e-05, ...,\n",
       "        6.51837040e-05, 1.39724702e+01, 1.58715701e-05],\n",
       "       [1.26524417e-05, 8.85828522e-05, 8.03200226e-03, ...,\n",
       "        1.91685704e-05, 2.55991940e-05, 1.26165216e+01]])"
      ]
     },
     "execution_count": 3,
     "metadata": {},
     "output_type": "execute_result"
    }
   ],
   "source": [
    "## Population data\n",
    "initDataDF = pd.read_csv(\"../data/\" + district + \"_init_data.csv\")\n",
    "popDataDF = pd.read_csv(\"../data/\" + district + \"_population_data.csv\")\n",
    "\n",
    "\n",
    "cSparseMatrix = pd.read_csv(\"../output/\" + district + \"_cmatrix_results.csv\")\n",
    "\n",
    "## Number of regions\n",
    "r = len(initDataDF.index)\n",
    "\n",
    "## cijMatrix\n",
    "C_TPart_Matrix = cSparseMatrix['Cij'].to_numpy().reshape(r,r)\n",
    "\n",
    "## Sort distance data by name for easy matrix transformation\n",
    "initDataDF.sort_values(by=['name'], inplace=True)\n",
    "popDataDF.sort_values(by=['name'], inplace=True)\n",
    "\n",
    "initDataDF['N'] = popDataDF['N']\n",
    "initDataDF['type'] = popDataDF['type']\n",
    "\n",
    "Wn = modelParameter[\"cw\"]*C_TPart_Matrix\n",
    "Wn"
   ]
  },
  {
   "cell_type": "markdown",
   "metadata": {},
   "source": [
    "## Mitigation Strategy initialization"
   ]
  },
  {
   "cell_type": "markdown",
   "metadata": {},
   "source": [
    "### 1. Normal Day"
   ]
  },
  {
   "cell_type": "code",
   "execution_count": 4,
   "metadata": {
    "ExecuteTime": {
     "end_time": "2020-04-28T16:48:07.142958Z",
     "start_time": "2020-04-28T16:48:07.133520Z"
    }
   },
   "outputs": [
    {
     "data": {
      "text/plain": [
       "array([[1., 1., 1., ..., 1., 1., 1.],\n",
       "       [1., 1., 1., ..., 1., 1., 1.],\n",
       "       [1., 1., 1., ..., 1., 1., 1.],\n",
       "       ...,\n",
       "       [1., 1., 1., ..., 1., 1., 1.],\n",
       "       [1., 1., 1., ..., 1., 1., 1.],\n",
       "       [1., 1., 1., ..., 1., 1., 1.]])"
      ]
     },
     "execution_count": 4,
     "metadata": {},
     "output_type": "execute_result"
    }
   ],
   "source": [
    "Mn = np.ones((r,r))\n",
    "Mn"
   ]
  },
  {
   "cell_type": "markdown",
   "metadata": {},
   "source": [
    "### 2. Break the chain"
   ]
  },
  {
   "cell_type": "code",
   "execution_count": 5,
   "metadata": {
    "ExecuteTime": {
     "end_time": "2020-04-28T16:48:21.593211Z",
     "start_time": "2020-04-28T16:48:21.583751Z"
    }
   },
   "outputs": [
    {
     "data": {
      "text/plain": [
       "array([[0.66666667, 0.66666667, 0.66666667, ..., 0.66666667, 0.66666667,\n",
       "        0.66666667],\n",
       "       [0.66666667, 0.66666667, 0.66666667, ..., 0.66666667, 0.66666667,\n",
       "        0.66666667],\n",
       "       [0.66666667, 0.66666667, 0.66666667, ..., 0.66666667, 0.66666667,\n",
       "        0.66666667],\n",
       "       ...,\n",
       "       [0.66666667, 0.66666667, 0.66666667, ..., 0.66666667, 0.66666667,\n",
       "        0.66666667],\n",
       "       [0.66666667, 0.66666667, 0.66666667, ..., 0.66666667, 0.66666667,\n",
       "        0.66666667],\n",
       "       [0.66666667, 0.66666667, 0.66666667, ..., 0.66666667, 0.66666667,\n",
       "        0.66666667]])"
      ]
     },
     "execution_count": 5,
     "metadata": {},
     "output_type": "execute_result"
    }
   ],
   "source": [
    "Mbc = Mn*modelParameter[\"eBC\"]\n",
    "Mbc"
   ]
  },
  {
   "cell_type": "markdown",
   "metadata": {},
   "source": [
    "### 3. Complete Lockdown\n"
   ]
  },
  {
   "cell_type": "code",
   "execution_count": 6,
   "metadata": {
    "ExecuteTime": {
     "end_time": "2020-04-28T16:48:25.481595Z",
     "start_time": "2020-04-28T16:48:25.460869Z"
    }
   },
   "outputs": [
    {
     "data": {
      "text/plain": [
       "array([[0.1, 0.1, 0.1, ..., 0.1, 0.1, 0.1],\n",
       "       [0.1, 0.1, 0.1, ..., 0.1, 0.1, 0.1],\n",
       "       [0.1, 0.1, 0.1, ..., 0.1, 0.1, 0.1],\n",
       "       ...,\n",
       "       [0.1, 0.1, 0.1, ..., 0.1, 0.1, 0.1],\n",
       "       [0.1, 0.1, 0.1, ..., 0.1, 0.1, 0.1],\n",
       "       [0.1, 0.1, 0.1, ..., 0.1, 0.1, 0.1]])"
      ]
     },
     "execution_count": 6,
     "metadata": {},
     "output_type": "execute_result"
    }
   ],
   "source": [
    "Mld = Mn*modelParameter[\"eLD\"]\n",
    "Mld"
   ]
  },
  {
   "cell_type": "markdown",
   "metadata": {
    "ExecuteTime": {
     "end_time": "2020-04-28T03:22:13.365666Z",
     "start_time": "2020-04-28T03:22:13.362395Z"
    }
   },
   "source": [
    "### 4. District Border Closure"
   ]
  },
  {
   "cell_type": "code",
   "execution_count": 7,
   "metadata": {
    "ExecuteTime": {
     "end_time": "2020-04-28T16:48:32.145159Z",
     "start_time": "2020-04-28T16:48:26.842084Z"
    }
   },
   "outputs": [
    {
     "data": {
      "text/plain": [
       "array([[1. , 0.2, 0.2, ..., 1. , 0.2, 0.2],\n",
       "       [0.2, 1. , 0.2, ..., 0.2, 0.2, 0.2],\n",
       "       [0.2, 0.2, 1. , ..., 0.2, 0.2, 1. ],\n",
       "       ...,\n",
       "       [1. , 0.2, 0.2, ..., 1. , 0.2, 0.2],\n",
       "       [0.2, 0.2, 0.2, ..., 0.2, 1. , 0.2],\n",
       "       [0.2, 0.2, 1. , ..., 0.2, 0.2, 1. ]])"
      ]
     },
     "execution_count": 7,
     "metadata": {},
     "output_type": "execute_result"
    }
   ],
   "source": [
    "cSparseMatrix['iNameDistrict'] = cSparseMatrix['iName'].str.split(\"__\",n = 2, expand = True)[1] \n",
    "cSparseMatrix['jNameDistrict'] = cSparseMatrix['jName'].str.split(\"__\", n = 2, expand = True)[1] \n",
    "\n",
    "cSparseMatrix.loc[cSparseMatrix['iNameDistrict']==cSparseMatrix['jNameDistrict'],'interDistrictFlag'] = 0\n",
    "cSparseMatrix.loc[cSparseMatrix['iNameDistrict']!=cSparseMatrix['jNameDistrict'],'interDistrictFlag'] = 1\n",
    "\n",
    "\n",
    "epsilonDistrictLockDownMatrix = cSparseMatrix['interDistrictFlag'].to_numpy().reshape(r,r)*modelParameter[\"eDB\"]\n",
    "Mdb = np.multiply(Mn,epsilonDistrictLockDownMatrix)\n",
    "Mdb[epsilonDistrictLockDownMatrix==0] = 1\n",
    "Mdb"
   ]
  },
  {
   "cell_type": "markdown",
   "metadata": {},
   "source": [
    "## User parameters"
   ]
  },
  {
   "cell_type": "code",
   "execution_count": 8,
   "metadata": {
    "ExecuteTime": {
     "end_time": "2020-04-28T16:48:32.158172Z",
     "start_time": "2020-04-28T16:48:32.149908Z"
    }
   },
   "outputs": [
    {
     "data": {
      "text/plain": [
       "{'breakTheChains': [{'startDay': 7, 'endDay': 49}],\n",
       " 'completeLockDowns': [{'startDay': 14, 'endDay': 35}],\n",
       " 'districtLockDowns': [{'startDay': 30, 'endDay': 49}]}"
      ]
     },
     "execution_count": 8,
     "metadata": {},
     "output_type": "execute_result"
    }
   ],
   "source": [
    "userParameter = '{ \"breakTheChains\" : [{\"startDay\": 7, \"endDay\": 49}], \"completeLockDowns\" :  [{\"startDay\": 14, \"endDay\": 35}], \"districtLockDowns\" :  [{\"startDay\": 30, \"endDay\": 49}]}'\n",
    "                \n",
    "\n",
    "userParameterData = json.loads(userParameter)\n",
    "userParameterData\n",
    "\n"
   ]
  },
  {
   "cell_type": "code",
   "execution_count": 9,
   "metadata": {
    "ExecuteTime": {
     "end_time": "2020-04-28T16:48:32.174674Z",
     "start_time": "2020-04-28T16:48:32.169005Z"
    }
   },
   "outputs": [],
   "source": [
    "def isBreakTheChain(day):\n",
    "    for breakTheChains in userParameterData['breakTheChains']:\n",
    "        if day >= breakTheChains['startDay'] and day <= breakTheChains['endDay']:\n",
    "            return True\n",
    "    return False"
   ]
  },
  {
   "cell_type": "code",
   "execution_count": 10,
   "metadata": {
    "ExecuteTime": {
     "end_time": "2020-04-28T16:48:32.189334Z",
     "start_time": "2020-04-28T16:48:32.179134Z"
    }
   },
   "outputs": [],
   "source": [
    "def isCompleteLockdown(day):\n",
    "    for completeLockDowns in userParameterData['completeLockDowns']:\n",
    "        if day >= completeLockDowns['startDay'] and day <= completeLockDowns['endDay']:\n",
    "            return True\n",
    "    return False\n"
   ]
  },
  {
   "cell_type": "code",
   "execution_count": 11,
   "metadata": {
    "ExecuteTime": {
     "end_time": "2020-04-28T16:48:32.206123Z",
     "start_time": "2020-04-28T16:48:32.194979Z"
    }
   },
   "outputs": [],
   "source": [
    "def isDistrictLockDown(day):\n",
    "    for districtLockDowns in userParameterData['districtLockDowns']:\n",
    "        if day >= districtLockDowns['startDay'] and day <= districtLockDowns['endDay']:\n",
    "            return True\n",
    "    return False\n"
   ]
  },
  {
   "cell_type": "markdown",
   "metadata": {},
   "source": [
    "## Function definitions"
   ]
  },
  {
   "cell_type": "code",
   "execution_count": 12,
   "metadata": {
    "ExecuteTime": {
     "end_time": "2020-04-28T16:48:35.369471Z",
     "start_time": "2020-04-28T16:48:35.363212Z"
    }
   },
   "outputs": [],
   "source": [
    "## Differential equation\n",
    "def deriv(y,contactRatio, modelParameter):\n",
    "    Si, Ei, Ii, Ri = y\n",
    "    dSdt = -modelParameter[\"pi\"] * Si * contactRatio\n",
    "    dEdt = (modelParameter[\"pi\"] * Si * contactRatio) - (Ei/modelParameter[\"tE\"])\n",
    "    dIdt = (Ei/modelParameter[\"tE\"]) -  (Ii/modelParameter[\"tI\"])\n",
    "    dRdt = (Ii/modelParameter[\"tI\"])\n",
    "    return dSdt, dEdt, dIdt, dRdt"
   ]
  },
  {
   "cell_type": "code",
   "execution_count": 21,
   "metadata": {
    "ExecuteTime": {
     "end_time": "2020-04-28T16:50:31.604523Z",
     "start_time": "2020-04-28T16:50:31.598073Z"
    }
   },
   "outputs": [],
   "source": [
    "def computeContactMatrix(day):    \n",
    "    ## Effective mitigation matrix\n",
    "    Meffective = Mn\n",
    "    \n",
    "    if isBreakTheChain(day):\n",
    "        Meffective = np.minimum(Meffective, Mbc)\n",
    "        \n",
    "    if isCompleteLockdown(day):\n",
    "        Meffective = np.minimum(Meffective, Mld)\n",
    "    \n",
    "    if isDistrictLockDown(day):\n",
    "        Meffective = np.minimum(Meffective, Mdb)\n",
    "        \n",
    "    Cmitigated = np.multiply(Meffective,Wn)    \n",
    "    np.fill_diagonal(Cmitigated, Cmitigated.diagonal() + modelParameter[\"ch\"])\n",
    "    return Cmitigated\n",
    "    \n"
   ]
  },
  {
   "cell_type": "code",
   "execution_count": 22,
   "metadata": {
    "ExecuteTime": {
     "end_time": "2020-04-28T16:50:34.084163Z",
     "start_time": "2020-04-28T16:50:34.077790Z"
    }
   },
   "outputs": [],
   "source": [
    "## Find the contact ratio\n",
    "def findSpatialContactRatioV2(Ci, I, N, day):\n",
    "    c = Ci*I/N\n",
    "    return c.sum()"
   ]
  },
  {
   "cell_type": "code",
   "execution_count": 23,
   "metadata": {
    "ExecuteTime": {
     "end_time": "2020-04-28T16:50:34.696916Z",
     "start_time": "2020-04-28T16:50:34.689898Z"
    }
   },
   "outputs": [],
   "source": [
    "## derive next count for SEIHR compartments\n",
    "def derivNext(y, rates) :\n",
    "    S,E,I,R = y\n",
    "    dSdt, dEdt, dIdt, dRdt = rates\n",
    "    S1 = S + dSdt\n",
    "    E1 = E + dEdt\n",
    "    I1 = I + dIdt\n",
    "    R1 = R + dRdt\n",
    "\n",
    "    return S1, E1, I1, R1\n"
   ]
  },
  {
   "cell_type": "markdown",
   "metadata": {},
   "source": [
    "## Run the model for all regions"
   ]
  },
  {
   "cell_type": "code",
   "execution_count": 24,
   "metadata": {
    "ExecuteTime": {
     "end_time": "2020-04-28T16:50:58.646298Z",
     "start_time": "2020-04-28T16:50:36.160428Z"
    }
   },
   "outputs": [],
   "source": [
    "yPrevDict = {};\n",
    "yNextDict = {};\n",
    "data = []\n",
    "IPrevArr = []\n",
    "NArray = []\n",
    "\n",
    "\n",
    "for index, row in initDataDF.iterrows():\n",
    "    yPrevDict[row['name']] = row['S'], row['E'], row['I'], row['R'] \n",
    "    IPrevArr.append(row['I'])\n",
    "    NArray.append(row['S'] + row['E'] + row['I'] + row['R'])\n",
    "\n",
    "IPrev = np.array(IPrevArr);\n",
    "N = np.array(NArray);\n",
    "\n",
    "\n",
    "for day in range(1,NO_OF_DAYS):\n",
    "    INextArr = [];\n",
    "    C = computeContactMatrix(day)\n",
    "\n",
    "    for index, row in initDataDF.iterrows():\n",
    "        name = row['name'];\n",
    "        y = yPrevDict[name]; \n",
    "        # Contact matrix\n",
    "        contactRatio = findSpatialContactRatioV2(C[index],IPrev, N, day);\n",
    "        rates = deriv(y, contactRatio, modelParameter)\n",
    "        yNext = derivNext(y, rates) \n",
    "        \n",
    "        yNextDict[name] = yNext\n",
    "        data.append({'name': name, 'day': day, 'S': yNext[0], 'E': yNext[1], 'I': yNext[2], 'R': yNext[3]})\n",
    "        INextArr.append(yNext[2])\n",
    "    \n",
    "    yPrevDict = yNextDict\n",
    "    IPrev = np.array(INextArr);\n",
    "\n",
    "resultsDF = pd.DataFrame(data);\n",
    "\n"
   ]
  },
  {
   "cell_type": "code",
   "execution_count": null,
   "metadata": {
    "ExecuteTime": {
     "end_time": "2020-04-28T06:16:37.330219Z",
     "start_time": "2020-04-28T06:16:34.690Z"
    }
   },
   "outputs": [],
   "source": [
    "resultsDF.head(10)"
   ]
  },
  {
   "cell_type": "markdown",
   "metadata": {},
   "source": [
    "## Save Output"
   ]
  },
  {
   "cell_type": "code",
   "execution_count": null,
   "metadata": {
    "ExecuteTime": {
     "end_time": "2020-04-28T05:26:44.468599Z",
     "start_time": "2020-04-28T05:26:42.770605Z"
    }
   },
   "outputs": [],
   "source": [
    "resultsDF.to_csv(\"../output/\" + district + \"_results.csv\")"
   ]
  },
  {
   "cell_type": "markdown",
   "metadata": {},
   "source": [
    "## Plot Results"
   ]
  },
  {
   "cell_type": "code",
   "execution_count": null,
   "metadata": {
    "ExecuteTime": {
     "end_time": "2020-04-28T05:27:09.397167Z",
     "start_time": "2020-04-28T05:26:44.470638Z"
    }
   },
   "outputs": [],
   "source": [
    "plotsDF = resultsDF.copy()\n",
    "plotsDF['TotalI'] = plotsDF['I']\n",
    "plotsDF['day'] = plotsDF['day']\n",
    "plotsDF['name'] = plotsDF['name']\n",
    "plotsDF = plotsDF.drop(plotsDF[plotsDF['TotalI']==0].index,axis=0)\n",
    "\n",
    "fig = px.scatter(plotsDF, x=\"day\", y=\"TotalI\", color=\"name\")\n",
    "fig.show()"
   ]
  },
  {
   "cell_type": "code",
   "execution_count": null,
   "metadata": {
    "ExecuteTime": {
     "end_time": "2020-04-27T05:18:56.773900Z",
     "start_time": "2020-04-27T05:18:23.532903Z"
    }
   },
   "outputs": [],
   "source": [
    "import plotly.graph_objects as go\n",
    "figGo = go.Figure()\n",
    "\n",
    "for index, row in initDataDF.iterrows(): \n",
    "    figGo.add_trace(go.Scatter(\n",
    "    x=resultsDF[resultsDF['name']==row['name']]['day'],\n",
    "    y=resultsDF[resultsDF['name']==row['name']]['I'],\n",
    "    name=row['name']))\n",
    "\n",
    "\n",
    "figGo.update_layout(yaxis_type=\"log\")\n",
    "figGo.show()"
   ]
  },
  {
   "cell_type": "code",
   "execution_count": null,
   "metadata": {
    "ExecuteTime": {
     "end_time": "2020-04-27T05:18:56.828813Z",
     "start_time": "2020-04-27T05:18:56.776509Z"
    }
   },
   "outputs": [],
   "source": [
    "idx = resultsDF.groupby(['name'])['I'].transform(max) == resultsDF['I']\n",
    "resultsDF[idx].to_csv(\"../output/\" + district + \"_peak_results.csv\")\n",
    "resultsDF[idx]"
   ]
  },
  {
   "cell_type": "code",
   "execution_count": null,
   "metadata": {},
   "outputs": [],
   "source": []
  }
 ],
 "metadata": {
  "kernelspec": {
   "display_name": "Python 3",
   "language": "python",
   "name": "python3"
  },
  "language_info": {
   "codemirror_mode": {
    "name": "ipython",
    "version": 3
   },
   "file_extension": ".py",
   "mimetype": "text/x-python",
   "name": "python",
   "nbconvert_exporter": "python",
   "pygments_lexer": "ipython3",
   "version": "3.7.5"
  }
 },
 "nbformat": 4,
 "nbformat_minor": 2
}
