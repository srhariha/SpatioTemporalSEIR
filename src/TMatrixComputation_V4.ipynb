{
 "cells": [
  {
   "cell_type": "code",
   "execution_count": 1,
   "metadata": {
    "ExecuteTime": {
     "end_time": "2020-05-03T09:12:49.781098Z",
     "start_time": "2020-05-03T09:12:48.537105Z"
    }
   },
   "outputs": [],
   "source": [
    "import numpy as np;\n",
    "import pandas as pd;\n",
    "from numpy import savetxt"
   ]
  },
  {
   "cell_type": "markdown",
   "metadata": {},
   "source": [
    "## Initialize Parameters"
   ]
  },
  {
   "cell_type": "code",
   "execution_count": 2,
   "metadata": {
    "ExecuteTime": {
     "end_time": "2020-05-03T09:12:50.899853Z",
     "start_time": "2020-05-03T09:12:50.888586Z"
    }
   },
   "outputs": [],
   "source": [
    "## parameters and global variables\n",
    "\n",
    "district = \"all\"\n",
    "\n",
    "zetaPanchayat = 0.1\n",
    "zetaMunicipality = 0.2\n",
    "zetaCorporation = 0.3\n",
    "\n",
    "\n",
    "muForSmall = 0.09\n",
    "muForMedium = 0.04\n",
    "muForLarge = 0.02\n",
    "\n"
   ]
  },
  {
   "cell_type": "markdown",
   "metadata": {},
   "source": [
    "## Load and Initialize Data"
   ]
  },
  {
   "cell_type": "code",
   "execution_count": 3,
   "metadata": {
    "ExecuteTime": {
     "end_time": "2020-05-03T09:12:56.540877Z",
     "start_time": "2020-05-03T09:12:55.217633Z"
    }
   },
   "outputs": [
    {
     "data": {
      "text/html": [
       "<div>\n",
       "<style scoped>\n",
       "    .dataframe tbody tr th:only-of-type {\n",
       "        vertical-align: middle;\n",
       "    }\n",
       "\n",
       "    .dataframe tbody tr th {\n",
       "        vertical-align: top;\n",
       "    }\n",
       "\n",
       "    .dataframe thead th {\n",
       "        text-align: right;\n",
       "    }\n",
       "</style>\n",
       "<table border=\"1\" class=\"dataframe\">\n",
       "  <thead>\n",
       "    <tr style=\"text-align: right;\">\n",
       "      <th></th>\n",
       "      <th>name</th>\n",
       "      <th>type</th>\n",
       "      <th>N</th>\n",
       "      <th>J</th>\n",
       "      <th>T</th>\n",
       "    </tr>\n",
       "  </thead>\n",
       "  <tbody>\n",
       "    <tr>\n",
       "      <th>1020</th>\n",
       "      <td>Vettikkavala__Kollam</td>\n",
       "      <td>P</td>\n",
       "      <td>36204</td>\n",
       "      <td>3620.4</td>\n",
       "      <td>1448.16</td>\n",
       "    </tr>\n",
       "    <tr>\n",
       "      <th>1021</th>\n",
       "      <td>Vettom__Malappuram</td>\n",
       "      <td>P</td>\n",
       "      <td>6577</td>\n",
       "      <td>657.7</td>\n",
       "      <td>591.93</td>\n",
       "    </tr>\n",
       "    <tr>\n",
       "      <th>1022</th>\n",
       "      <td>Vettoor__Thiruvananthapuram</td>\n",
       "      <td>P</td>\n",
       "      <td>18704</td>\n",
       "      <td>1870.4</td>\n",
       "      <td>1683.36</td>\n",
       "    </tr>\n",
       "    <tr>\n",
       "      <th>1023</th>\n",
       "      <td>Vijayapuram__Kottayam</td>\n",
       "      <td>P</td>\n",
       "      <td>30838</td>\n",
       "      <td>3083.8</td>\n",
       "      <td>2775.42</td>\n",
       "    </tr>\n",
       "    <tr>\n",
       "      <th>1024</th>\n",
       "      <td>Vilakudi__Kollam</td>\n",
       "      <td>P</td>\n",
       "      <td>32995</td>\n",
       "      <td>3299.5</td>\n",
       "      <td>2969.55</td>\n",
       "    </tr>\n",
       "    <tr>\n",
       "      <th>1025</th>\n",
       "      <td>Vilappil__Thiruvananthapuram</td>\n",
       "      <td>P</td>\n",
       "      <td>36212</td>\n",
       "      <td>3621.2</td>\n",
       "      <td>3259.08</td>\n",
       "    </tr>\n",
       "    <tr>\n",
       "      <th>1026</th>\n",
       "      <td>Vilavoorkal__Thiruvananthapuram</td>\n",
       "      <td>P</td>\n",
       "      <td>31761</td>\n",
       "      <td>3176.1</td>\n",
       "      <td>2858.49</td>\n",
       "    </tr>\n",
       "    <tr>\n",
       "      <th>1027</th>\n",
       "      <td>Vilayoor__Palakkad</td>\n",
       "      <td>P</td>\n",
       "      <td>23389</td>\n",
       "      <td>2338.9</td>\n",
       "      <td>2105.01</td>\n",
       "    </tr>\n",
       "    <tr>\n",
       "      <th>1028</th>\n",
       "      <td>Villiyappally__Kozhikode</td>\n",
       "      <td>P</td>\n",
       "      <td>34502</td>\n",
       "      <td>3450.2</td>\n",
       "      <td>3105.18</td>\n",
       "    </tr>\n",
       "    <tr>\n",
       "      <th>1029</th>\n",
       "      <td>Vithura__Thiruvananthapuram</td>\n",
       "      <td>P</td>\n",
       "      <td>26249</td>\n",
       "      <td>2624.9</td>\n",
       "      <td>524.98</td>\n",
       "    </tr>\n",
       "    <tr>\n",
       "      <th>1030</th>\n",
       "      <td>Vorkady__Kasaragod</td>\n",
       "      <td>P</td>\n",
       "      <td>25756</td>\n",
       "      <td>2575.6</td>\n",
       "      <td>1030.24</td>\n",
       "    </tr>\n",
       "    <tr>\n",
       "      <th>1031</th>\n",
       "      <td>Vythiri__Wayanad</td>\n",
       "      <td>P</td>\n",
       "      <td>4159</td>\n",
       "      <td>415.9</td>\n",
       "      <td>166.36</td>\n",
       "    </tr>\n",
       "    <tr>\n",
       "      <th>1032</th>\n",
       "      <td>Wandoor__Malappuram</td>\n",
       "      <td>P</td>\n",
       "      <td>10239</td>\n",
       "      <td>1023.9</td>\n",
       "      <td>409.56</td>\n",
       "    </tr>\n",
       "    <tr>\n",
       "      <th>1033</th>\n",
       "      <td>West Eleri__Kasaragod</td>\n",
       "      <td>P</td>\n",
       "      <td>29316</td>\n",
       "      <td>2931.6</td>\n",
       "      <td>1172.64</td>\n",
       "    </tr>\n",
       "    <tr>\n",
       "      <th>1034</th>\n",
       "      <td>West Kallada__Kollam</td>\n",
       "      <td>P</td>\n",
       "      <td>18176</td>\n",
       "      <td>1817.6</td>\n",
       "      <td>1635.84</td>\n",
       "    </tr>\n",
       "  </tbody>\n",
       "</table>\n",
       "</div>"
      ],
      "text/plain": [
       "                                 name type      N       J        T\n",
       "1020             Vettikkavala__Kollam    P  36204  3620.4  1448.16\n",
       "1021               Vettom__Malappuram    P   6577   657.7   591.93\n",
       "1022      Vettoor__Thiruvananthapuram    P  18704  1870.4  1683.36\n",
       "1023            Vijayapuram__Kottayam    P  30838  3083.8  2775.42\n",
       "1024                 Vilakudi__Kollam    P  32995  3299.5  2969.55\n",
       "1025     Vilappil__Thiruvananthapuram    P  36212  3621.2  3259.08\n",
       "1026  Vilavoorkal__Thiruvananthapuram    P  31761  3176.1  2858.49\n",
       "1027               Vilayoor__Palakkad    P  23389  2338.9  2105.01\n",
       "1028         Villiyappally__Kozhikode    P  34502  3450.2  3105.18\n",
       "1029      Vithura__Thiruvananthapuram    P  26249  2624.9   524.98\n",
       "1030               Vorkady__Kasaragod    P  25756  2575.6  1030.24\n",
       "1031                 Vythiri__Wayanad    P   4159   415.9   166.36\n",
       "1032              Wandoor__Malappuram    P  10239  1023.9   409.56\n",
       "1033            West Eleri__Kasaragod    P  29316  2931.6  1172.64\n",
       "1034             West Kallada__Kollam    P  18176  1817.6  1635.84"
      ]
     },
     "execution_count": 3,
     "metadata": {},
     "output_type": "execute_result"
    }
   ],
   "source": [
    "## Load population data\n",
    "initDataDF = pd.read_csv(\"../data/\" + district + \"_population_data.csv\")\n",
    "\n",
    "\n",
    "## Load distance data\n",
    "distanceData = pd.read_csv(\"../data/\" + district + \"_distance_matrix.csv\")\n",
    "\n",
    "## Load area data\n",
    "areaData = pd.read_csv(\"../data/\" + district + \"_area_data.csv\")\n",
    "\n",
    "## Number of regions\n",
    "r = len(initDataDF.index)\n",
    "\n",
    "## Sort population data and distance data by name for easy matrix transformation\n",
    "initDataDF.sort_values(by=['name'], inplace=True)\n",
    "initDataDF.reset_index(drop=True, inplace=True)\n",
    "\n",
    "distanceData.sort_values(by=['fromName', 'toName'], inplace=True)\n",
    "distanceData.reset_index(drop=True, inplace=True)\n",
    "\n",
    "areaData.sort_values(by=['name'], inplace=True)\n",
    "areaData.reset_index(drop=True,inplace=True)\n",
    "\n",
    "## Initialize Job \n",
    "initDataDF.loc[initDataDF['type']=='P','J'] = initDataDF[initDataDF['type']=='P']['N']*zetaPanchayat\n",
    "initDataDF.loc[initDataDF['type']=='M','J'] = initDataDF[initDataDF['type']=='M']['N']*zetaMunicipality\n",
    "initDataDF.loc[initDataDF['type']=='C','J'] = initDataDF[initDataDF['type']=='C']['N']*zetaCorporation\n",
    "\n",
    "## Initialize T\n",
    "areaData['areaSqKm'] = areaData['area']/(1000*1000)\n",
    "\n",
    "initDataDF.loc[areaData['areaSqKm'] <= 25,'T'] = initDataDF[areaData['areaSqKm'] <= 25]['N']*muForSmall\n",
    "initDataDF.loc[(areaData['areaSqKm'] > 25) & (areaData['areaSqKm'] <= 100),'T'] = initDataDF[(areaData['areaSqKm'] > 25) & (areaData['areaSqKm'] <= 100)]['N']*muForMedium\n",
    "initDataDF.loc[areaData['areaSqKm'] > 100,'T'] = initDataDF[areaData['areaSqKm'] > 100]['N']*muForLarge\n",
    "\n",
    "initDataDF.tail(15)\n"
   ]
  },
  {
   "cell_type": "markdown",
   "metadata": {},
   "source": [
    "## Matrix computation of TMatrix\n",
    "\n",
    "### Prepare Distance matrix"
   ]
  },
  {
   "cell_type": "code",
   "execution_count": 4,
   "metadata": {
    "ExecuteTime": {
     "end_time": "2020-05-03T09:13:11.282652Z",
     "start_time": "2020-05-03T09:13:11.267439Z"
    }
   },
   "outputs": [
    {
     "data": {
      "text/plain": [
       "array([[     1,  62713, 257069, ...,  38737, 153934, 239018],\n",
       "       [ 62713,      1, 194549, ...,  74778, 216606, 176575],\n",
       "       [257069, 194549,      1, ..., 263797, 410410,  18277],\n",
       "       ...,\n",
       "       [ 38737,  74778, 263797, ...,      1, 159119, 246386],\n",
       "       [153934, 216606, 410410, ..., 159119,      1, 392249],\n",
       "       [239018, 176575,  18277, ..., 246386, 392249,      1]])"
      ]
     },
     "execution_count": 4,
     "metadata": {},
     "output_type": "execute_result"
    }
   ],
   "source": [
    "distanceMatrix = np.array(distanceData['value'].to_numpy()).reshape(r,r)\n",
    "np.fill_diagonal(distanceMatrix,1)\n",
    "distanceMatrix\n"
   ]
  },
  {
   "cell_type": "markdown",
   "metadata": {},
   "source": [
    "### Job Attraction Matrix"
   ]
  },
  {
   "cell_type": "code",
   "execution_count": 5,
   "metadata": {
    "ExecuteTime": {
     "end_time": "2020-05-03T09:13:18.178476Z",
     "start_time": "2020-05-03T09:13:18.122254Z"
    }
   },
   "outputs": [
    {
     "data": {
      "text/plain": [
       "array([[0.00000000e+00, 2.97481564e-04, 1.86261275e-05, ...,\n",
       "        2.49687843e-04, 4.52717648e-05, 1.16420355e-05],\n",
       "       [5.16512988e-05, 0.00000000e+00, 2.46031578e-05, ...,\n",
       "        5.06907299e-05, 1.72974642e-05, 1.61383294e-05],\n",
       "       [2.95880053e-06, 2.25093409e-05, 0.00000000e+00, ...,\n",
       "        3.92062437e-06, 4.63773833e-06, 1.44985939e-03],\n",
       "       ...,\n",
       "       [5.37174760e-04, 6.28095317e-04, 5.30982637e-05, ...,\n",
       "        0.00000000e+00, 1.27189274e-04, 3.28894127e-05],\n",
       "       [4.49003504e-05, 9.88060539e-05, 2.89557908e-05, ...,\n",
       "        5.86346846e-05, 0.00000000e+00, 1.71283590e-05],\n",
       "       [3.80211001e-06, 3.03552033e-05, 2.98077044e-03, ...,\n",
       "        4.99267937e-06, 5.64013125e-06, 0.00000000e+00]])"
      ]
     },
     "execution_count": 5,
     "metadata": {},
     "output_type": "execute_result"
    }
   ],
   "source": [
    "jobArray = initDataDF['J'].to_numpy()\n",
    "\n",
    "jobByDSqMat = jobArray/np.multiply(distanceMatrix,distanceMatrix)\n",
    "np.fill_diagonal(jobByDSqMat, 0)\n",
    "jobAttractionMat = jobByDSqMat/jobByDSqMat.sum(axis=1, keepdims=True)\n",
    "jobAttractionMat"
   ]
  },
  {
   "cell_type": "markdown",
   "metadata": {
    "ExecuteTime": {
     "end_time": "2020-05-01T05:16:51.393734Z",
     "start_time": "2020-05-01T05:16:51.377180Z"
    }
   },
   "source": [
    "### Tij matrix"
   ]
  },
  {
   "cell_type": "code",
   "execution_count": 6,
   "metadata": {
    "ExecuteTime": {
     "end_time": "2020-05-03T09:13:21.572669Z",
     "start_time": "2020-05-03T09:13:21.554750Z"
    }
   },
   "outputs": [
    {
     "data": {
      "text/plain": [
       "array([ 7338., 31973., 33638., ..., 10239., 29316., 18176.])"
      ]
     },
     "execution_count": 6,
     "metadata": {},
     "output_type": "execute_result"
    }
   ],
   "source": [
    "TiArray = initDataDF['T'].to_numpy().reshape(r,1)\n",
    "TijMatrix = TiArray * jobAttractionMat\n",
    "\n",
    "NiArray = initDataDF['N'].to_numpy()\n",
    "TiiArray = NiArray - TijMatrix.sum(axis = 1)\n",
    "\n",
    "TijMatrixDiag = np.diag(TiiArray)\n",
    "TijMatrix += TijMatrixDiag\n",
    "TijMatrix\n",
    "TijMatrix.sum(axis=1)\n"
   ]
  },
  {
   "cell_type": "markdown",
   "metadata": {
    "ExecuteTime": {
     "end_time": "2020-04-24T05:14:36.245094Z",
     "start_time": "2020-04-24T05:14:36.240507Z"
    }
   },
   "source": [
    "## Save output"
   ]
  },
  {
   "cell_type": "code",
   "execution_count": 7,
   "metadata": {
    "ExecuteTime": {
     "end_time": "2020-05-03T09:13:26.527854Z",
     "start_time": "2020-05-03T09:13:25.698292Z"
    }
   },
   "outputs": [],
   "source": [
    "savetxt(\"../output/\" + district + \"_tmatrix_results.csv\", TijMatrix, delimiter=',')"
   ]
  },
  {
   "cell_type": "markdown",
   "metadata": {
    "ExecuteTime": {
     "end_time": "2020-05-01T05:26:02.107315Z",
     "start_time": "2020-05-01T05:26:02.098435Z"
    }
   },
   "source": [
    "### Sparse CSV - on need basis"
   ]
  },
  {
   "cell_type": "code",
   "execution_count": null,
   "metadata": {
    "ExecuteTime": {
     "start_time": "2020-05-01T05:29:10.809Z"
    }
   },
   "outputs": [],
   "source": [
    "\n",
    "data = []\n",
    "\n",
    "for i in range(0,r):\n",
    "    for j in range(0,r):\n",
    "        Tij = TijMatrix[i][j]\n",
    "        data.append({'iName': initDataDF.iloc[i]['name'], 'jName': initDataDF.iloc[j]['name'], 'Tij': Tij});\n",
    "        \n",
    "resultsDF = pd.DataFrame(data);\n",
    "\n",
    "resultsDF.to_csv(\"../output/\" + district + \"_tmatrix_results.csv\")\n",
    "resultsDF\n"
   ]
  },
  {
   "cell_type": "markdown",
   "metadata": {},
   "source": [
    "## Save top 5 "
   ]
  },
  {
   "cell_type": "code",
   "execution_count": null,
   "metadata": {
    "ExecuteTime": {
     "end_time": "2020-04-30T06:47:21.216562Z",
     "start_time": "2020-04-30T06:47:20.972711Z"
    }
   },
   "outputs": [],
   "source": [
    "resultsDF[\"rank\"] = resultsDF.groupby(['iName'])['Tij'].rank(\"dense\", ascending=False)\n",
    "top5resultsDF = resultsDF[resultsDF[\"rank\"] <= 6]\n",
    "top5resultsDF[\"jName_Tij\"] = top5resultsDF[\"jName\"] + \" (\" + top5resultsDF[\"Tij\"].astype(str)  + \")\"\n",
    "top5resultsDFPivot = top5resultsDF.pivot(index=\"iName\", columns=\"rank\", values=\"jName_Tij\")\n",
    "top5resultsDFPivot.to_csv(\"../output/\" + district + \"_tmatrix_top5_regions.csv\")\n"
   ]
  }
 ],
 "metadata": {
  "kernelspec": {
   "display_name": "Python 3",
   "language": "python",
   "name": "python3"
  },
  "language_info": {
   "codemirror_mode": {
    "name": "ipython",
    "version": 3
   },
   "file_extension": ".py",
   "mimetype": "text/x-python",
   "name": "python",
   "nbconvert_exporter": "python",
   "pygments_lexer": "ipython3",
   "version": "3.7.5"
  }
 },
 "nbformat": 4,
 "nbformat_minor": 2
}
